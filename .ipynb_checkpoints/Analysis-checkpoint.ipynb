{
 "cells": [
  {
   "cell_type": "markdown",
   "metadata": {
    "id": "XnXby6hNa6zC"
   },
   "source": [
    "# To Run Before Everything Else"
   ]
  },
  {
   "cell_type": "code",
   "execution_count": 1,
   "metadata": {
    "colab": {
     "base_uri": "https://localhost:8080/"
    },
    "executionInfo": {
     "elapsed": 28675,
     "status": "ok",
     "timestamp": 1680059180317,
     "user": {
      "displayName": "Narjes Al-Zahli",
      "userId": "12456945527409337588"
     },
     "user_tz": 240
    },
    "id": "5GoQxJ_SPN3S",
    "outputId": "6e80ddc2-68e4-4164-9574-0b3ba739a40e"
   },
   "outputs": [
    {
     "name": "stdout",
     "output_type": "stream",
     "text": [
      "Mounted at /content/drive\n"
     ]
    }
   ],
   "source": [
    "#from google.colab import drive\n",
    "#drive.mount('/content/drive')"
   ]
  },
  {
   "cell_type": "code",
   "execution_count": 2,
   "metadata": {
    "colab": {
     "base_uri": "https://localhost:8080/"
    },
    "executionInfo": {
     "elapsed": 324,
     "status": "ok",
     "timestamp": 1680059180634,
     "user": {
      "displayName": "Narjes Al-Zahli",
      "userId": "12456945527409337588"
     },
     "user_tz": 240
    },
    "id": "SfVvhvfCSpTu",
    "outputId": "cbc75c5e-147f-440e-8be9-59a26d156d5e"
   },
   "outputs": [
    {
     "name": "stdout",
     "output_type": "stream",
     "text": [
      "/content/drive/.shortcut-targets-by-id/1TAiRioTs7t_VaxDEmo0DPGdJZYbZS0J7/AML_Project/Dataset\n"
     ]
    }
   ],
   "source": [
    "#%cd '/content/drive/MyDrive/AML_Project/Dataset'\n",
    "# %ls '/content/drive/MyDrive/AML_Project'"
   ]
  },
  {
   "cell_type": "code",
   "execution_count": 2,
   "metadata": {
    "executionInfo": {
     "elapsed": 1532,
     "status": "ok",
     "timestamp": 1680059182163,
     "user": {
      "displayName": "Narjes Al-Zahli",
      "userId": "12456945527409337588"
     },
     "user_tz": 240
    },
    "id": "prtBOK3BR_xo"
   },
   "outputs": [],
   "source": [
    "import numpy as np\n",
    "import pandas as pd\n",
    "import seaborn as sns\n",
    "import matplotlib.pyplot as plt"
   ]
  },
  {
   "cell_type": "code",
   "execution_count": null,
   "metadata": {},
   "outputs": [],
   "source": []
  },
  {
   "cell_type": "markdown",
   "metadata": {
    "id": "zyG_QToHbJ5j"
   },
   "source": [
    "# Initial Code"
   ]
  },
  {
   "cell_type": "code",
   "execution_count": 4,
   "metadata": {
    "colab": {
     "base_uri": "https://localhost:8080/",
     "height": 370
    },
    "executionInfo": {
     "elapsed": 4619,
     "status": "ok",
     "timestamp": 1680059186776,
     "user": {
      "displayName": "Narjes Al-Zahli",
      "userId": "12456945527409337588"
     },
     "user_tz": 240
    },
    "id": "6GBAoCkbOGIS",
    "outputId": "dfda9948-f8a9-4b57-e833-1c0b9da930c2"
   },
   "outputs": [
    {
     "data": {
      "text/html": [
       "<div>\n",
       "<style scoped>\n",
       "    .dataframe tbody tr th:only-of-type {\n",
       "        vertical-align: middle;\n",
       "    }\n",
       "\n",
       "    .dataframe tbody tr th {\n",
       "        vertical-align: top;\n",
       "    }\n",
       "\n",
       "    .dataframe thead th {\n",
       "        text-align: right;\n",
       "    }\n",
       "</style>\n",
       "<table border=\"1\" class=\"dataframe\">\n",
       "  <thead>\n",
       "    <tr style=\"text-align: right;\">\n",
       "      <th></th>\n",
       "      <th>id</th>\n",
       "      <th>name</th>\n",
       "      <th>popularity</th>\n",
       "      <th>duration_ms</th>\n",
       "      <th>explicit</th>\n",
       "      <th>artists</th>\n",
       "      <th>id_artists</th>\n",
       "      <th>release_date</th>\n",
       "      <th>danceability</th>\n",
       "      <th>energy</th>\n",
       "      <th>key</th>\n",
       "      <th>loudness</th>\n",
       "      <th>mode</th>\n",
       "      <th>speechiness</th>\n",
       "      <th>acousticness</th>\n",
       "      <th>instrumentalness</th>\n",
       "      <th>liveness</th>\n",
       "      <th>valence</th>\n",
       "      <th>tempo</th>\n",
       "      <th>time_signature</th>\n",
       "    </tr>\n",
       "  </thead>\n",
       "  <tbody>\n",
       "    <tr>\n",
       "      <th>0</th>\n",
       "      <td>35iwgR4jXetI318WEWsa1Q</td>\n",
       "      <td>Carve</td>\n",
       "      <td>6</td>\n",
       "      <td>126903</td>\n",
       "      <td>0</td>\n",
       "      <td>['Uli']</td>\n",
       "      <td>['45tIt06XoI0Iio4LBEVpls']</td>\n",
       "      <td>1922-02-22</td>\n",
       "      <td>0.645</td>\n",
       "      <td>0.4450</td>\n",
       "      <td>0</td>\n",
       "      <td>-13.338</td>\n",
       "      <td>1</td>\n",
       "      <td>0.4510</td>\n",
       "      <td>0.674</td>\n",
       "      <td>0.7440</td>\n",
       "      <td>0.151</td>\n",
       "      <td>0.127</td>\n",
       "      <td>104.851</td>\n",
       "      <td>3</td>\n",
       "    </tr>\n",
       "    <tr>\n",
       "      <th>1</th>\n",
       "      <td>021ht4sdgPcrDgSk7JTbKY</td>\n",
       "      <td>Capítulo 2.16 - Banquero Anarquista</td>\n",
       "      <td>0</td>\n",
       "      <td>98200</td>\n",
       "      <td>0</td>\n",
       "      <td>['Fernando Pessoa']</td>\n",
       "      <td>['14jtPCOoNZwquk5wd9DxrY']</td>\n",
       "      <td>1922-06-01</td>\n",
       "      <td>0.695</td>\n",
       "      <td>0.2630</td>\n",
       "      <td>0</td>\n",
       "      <td>-22.136</td>\n",
       "      <td>1</td>\n",
       "      <td>0.9570</td>\n",
       "      <td>0.797</td>\n",
       "      <td>0.0000</td>\n",
       "      <td>0.148</td>\n",
       "      <td>0.655</td>\n",
       "      <td>102.009</td>\n",
       "      <td>1</td>\n",
       "    </tr>\n",
       "    <tr>\n",
       "      <th>2</th>\n",
       "      <td>07A5yehtSnoedViJAZkNnc</td>\n",
       "      <td>Vivo para Quererte - Remasterizado</td>\n",
       "      <td>0</td>\n",
       "      <td>181640</td>\n",
       "      <td>0</td>\n",
       "      <td>['Ignacio Corsini']</td>\n",
       "      <td>['5LiOoJbxVSAMkBS2fUm3X2']</td>\n",
       "      <td>1922-03-21</td>\n",
       "      <td>0.434</td>\n",
       "      <td>0.1770</td>\n",
       "      <td>1</td>\n",
       "      <td>-21.180</td>\n",
       "      <td>1</td>\n",
       "      <td>0.0512</td>\n",
       "      <td>0.994</td>\n",
       "      <td>0.0218</td>\n",
       "      <td>0.212</td>\n",
       "      <td>0.457</td>\n",
       "      <td>130.418</td>\n",
       "      <td>5</td>\n",
       "    </tr>\n",
       "    <tr>\n",
       "      <th>3</th>\n",
       "      <td>08FmqUhxtyLTn6pAh6bk45</td>\n",
       "      <td>El Prisionero - Remasterizado</td>\n",
       "      <td>0</td>\n",
       "      <td>176907</td>\n",
       "      <td>0</td>\n",
       "      <td>['Ignacio Corsini']</td>\n",
       "      <td>['5LiOoJbxVSAMkBS2fUm3X2']</td>\n",
       "      <td>1922-03-21</td>\n",
       "      <td>0.321</td>\n",
       "      <td>0.0946</td>\n",
       "      <td>7</td>\n",
       "      <td>-27.961</td>\n",
       "      <td>1</td>\n",
       "      <td>0.0504</td>\n",
       "      <td>0.995</td>\n",
       "      <td>0.9180</td>\n",
       "      <td>0.104</td>\n",
       "      <td>0.397</td>\n",
       "      <td>169.980</td>\n",
       "      <td>3</td>\n",
       "    </tr>\n",
       "    <tr>\n",
       "      <th>4</th>\n",
       "      <td>08y9GfoqCWfOGsKdwojr5e</td>\n",
       "      <td>Lady of the Evening</td>\n",
       "      <td>0</td>\n",
       "      <td>163080</td>\n",
       "      <td>0</td>\n",
       "      <td>['Dick Haymes']</td>\n",
       "      <td>['3BiJGZsyX9sJchTqcSA7Su']</td>\n",
       "      <td>1922</td>\n",
       "      <td>0.402</td>\n",
       "      <td>0.1580</td>\n",
       "      <td>3</td>\n",
       "      <td>-16.900</td>\n",
       "      <td>0</td>\n",
       "      <td>0.0390</td>\n",
       "      <td>0.989</td>\n",
       "      <td>0.1300</td>\n",
       "      <td>0.311</td>\n",
       "      <td>0.196</td>\n",
       "      <td>103.220</td>\n",
       "      <td>4</td>\n",
       "    </tr>\n",
       "  </tbody>\n",
       "</table>\n",
       "</div>"
      ],
      "text/plain": [
       "                       id                                 name  popularity  \\\n",
       "0  35iwgR4jXetI318WEWsa1Q                                Carve           6   \n",
       "1  021ht4sdgPcrDgSk7JTbKY  Capítulo 2.16 - Banquero Anarquista           0   \n",
       "2  07A5yehtSnoedViJAZkNnc   Vivo para Quererte - Remasterizado           0   \n",
       "3  08FmqUhxtyLTn6pAh6bk45        El Prisionero - Remasterizado           0   \n",
       "4  08y9GfoqCWfOGsKdwojr5e                  Lady of the Evening           0   \n",
       "\n",
       "   duration_ms  explicit              artists                  id_artists  \\\n",
       "0       126903         0              ['Uli']  ['45tIt06XoI0Iio4LBEVpls']   \n",
       "1        98200         0  ['Fernando Pessoa']  ['14jtPCOoNZwquk5wd9DxrY']   \n",
       "2       181640         0  ['Ignacio Corsini']  ['5LiOoJbxVSAMkBS2fUm3X2']   \n",
       "3       176907         0  ['Ignacio Corsini']  ['5LiOoJbxVSAMkBS2fUm3X2']   \n",
       "4       163080         0      ['Dick Haymes']  ['3BiJGZsyX9sJchTqcSA7Su']   \n",
       "\n",
       "  release_date  danceability  energy  key  loudness  mode  speechiness  \\\n",
       "0   1922-02-22         0.645  0.4450    0   -13.338     1       0.4510   \n",
       "1   1922-06-01         0.695  0.2630    0   -22.136     1       0.9570   \n",
       "2   1922-03-21         0.434  0.1770    1   -21.180     1       0.0512   \n",
       "3   1922-03-21         0.321  0.0946    7   -27.961     1       0.0504   \n",
       "4         1922         0.402  0.1580    3   -16.900     0       0.0390   \n",
       "\n",
       "   acousticness  instrumentalness  liveness  valence    tempo  time_signature  \n",
       "0         0.674            0.7440     0.151    0.127  104.851               3  \n",
       "1         0.797            0.0000     0.148    0.655  102.009               1  \n",
       "2         0.994            0.0218     0.212    0.457  130.418               5  \n",
       "3         0.995            0.9180     0.104    0.397  169.980               3  \n",
       "4         0.989            0.1300     0.311    0.196  103.220               4  "
      ]
     },
     "execution_count": 4,
     "metadata": {},
     "output_type": "execute_result"
    }
   ],
   "source": [
    "tracks_df = pd.read_csv('Dataset/tracks.csv')\n",
    "tracks_df.head()"
   ]
  },
  {
   "cell_type": "code",
   "execution_count": 7,
   "metadata": {
    "colab": {
     "base_uri": "https://localhost:8080/",
     "height": 204
    },
    "executionInfo": {
     "elapsed": 3590,
     "status": "ok",
     "timestamp": 1680059190360,
     "user": {
      "displayName": "Narjes Al-Zahli",
      "userId": "12456945527409337588"
     },
     "user_tz": 240
    },
    "id": "s68caW5tPaDd",
    "outputId": "680df41d-b412-484a-a9eb-952a41a78bdb"
   },
   "outputs": [
    {
     "data": {
      "text/html": [
       "<div>\n",
       "<style scoped>\n",
       "    .dataframe tbody tr th:only-of-type {\n",
       "        vertical-align: middle;\n",
       "    }\n",
       "\n",
       "    .dataframe tbody tr th {\n",
       "        vertical-align: top;\n",
       "    }\n",
       "\n",
       "    .dataframe thead th {\n",
       "        text-align: right;\n",
       "    }\n",
       "</style>\n",
       "<table border=\"1\" class=\"dataframe\">\n",
       "  <thead>\n",
       "    <tr style=\"text-align: right;\">\n",
       "      <th></th>\n",
       "      <th>id</th>\n",
       "      <th>followers</th>\n",
       "      <th>genres</th>\n",
       "      <th>name</th>\n",
       "      <th>popularity</th>\n",
       "    </tr>\n",
       "  </thead>\n",
       "  <tbody>\n",
       "    <tr>\n",
       "      <th>0</th>\n",
       "      <td>0DheY5irMjBUeLybbCUEZ2</td>\n",
       "      <td>0.0</td>\n",
       "      <td>[]</td>\n",
       "      <td>Armid &amp; Amir Zare Pashai feat. Sara Rouzbehani</td>\n",
       "      <td>0</td>\n",
       "    </tr>\n",
       "    <tr>\n",
       "      <th>1</th>\n",
       "      <td>0DlhY15l3wsrnlfGio2bjU</td>\n",
       "      <td>5.0</td>\n",
       "      <td>[]</td>\n",
       "      <td>ปูนา ภาวิณี</td>\n",
       "      <td>0</td>\n",
       "    </tr>\n",
       "    <tr>\n",
       "      <th>2</th>\n",
       "      <td>0DmRESX2JknGPQyO15yxg7</td>\n",
       "      <td>0.0</td>\n",
       "      <td>[]</td>\n",
       "      <td>Sadaa</td>\n",
       "      <td>0</td>\n",
       "    </tr>\n",
       "    <tr>\n",
       "      <th>3</th>\n",
       "      <td>0DmhnbHjm1qw6NCYPeZNgJ</td>\n",
       "      <td>0.0</td>\n",
       "      <td>[]</td>\n",
       "      <td>Tra'gruda</td>\n",
       "      <td>0</td>\n",
       "    </tr>\n",
       "    <tr>\n",
       "      <th>4</th>\n",
       "      <td>0Dn11fWM7vHQ3rinvWEl4E</td>\n",
       "      <td>2.0</td>\n",
       "      <td>[]</td>\n",
       "      <td>Ioannis Panoutsopoulos</td>\n",
       "      <td>0</td>\n",
       "    </tr>\n",
       "  </tbody>\n",
       "</table>\n",
       "</div>"
      ],
      "text/plain": [
       "                       id  followers genres  \\\n",
       "0  0DheY5irMjBUeLybbCUEZ2        0.0     []   \n",
       "1  0DlhY15l3wsrnlfGio2bjU        5.0     []   \n",
       "2  0DmRESX2JknGPQyO15yxg7        0.0     []   \n",
       "3  0DmhnbHjm1qw6NCYPeZNgJ        0.0     []   \n",
       "4  0Dn11fWM7vHQ3rinvWEl4E        2.0     []   \n",
       "\n",
       "                                             name  popularity  \n",
       "0  Armid & Amir Zare Pashai feat. Sara Rouzbehani           0  \n",
       "1                                     ปูนา ภาวิณี           0  \n",
       "2                                           Sadaa           0  \n",
       "3                                       Tra'gruda           0  \n",
       "4                          Ioannis Panoutsopoulos           0  "
      ]
     },
     "execution_count": 7,
     "metadata": {},
     "output_type": "execute_result"
    }
   ],
   "source": [
    "artists_df = pd.read_csv('Dataset/artists.csv')\n",
    "artists_df.head()"
   ]
  },
  {
   "cell_type": "code",
   "execution_count": null,
   "metadata": {
    "colab": {
     "base_uri": "https://localhost:8080/"
    },
    "executionInfo": {
     "elapsed": 1159,
     "status": "ok",
     "timestamp": 1677777106393,
     "user": {
      "displayName": "Capucine Philippine Leroux",
      "userId": "15700087877911167032"
     },
     "user_tz": 300
    },
    "id": "ZwKaCkq6PeoZ",
    "outputId": "a5336846-63f2-4cbc-fc07-b00c641665d9"
   },
   "outputs": [
    {
     "name": "stdout",
     "output_type": "stream",
     "text": [
      "hello world\n"
     ]
    }
   ],
   "source": [
    "print(\"hello world\")"
   ]
  },
  {
   "cell_type": "code",
   "execution_count": null,
   "metadata": {
    "id": "IsVB2nVGPfgL"
   },
   "outputs": [],
   "source": [
    "#Vedant's Stuff"
   ]
  },
  {
   "cell_type": "code",
   "execution_count": null,
   "metadata": {
    "id": "Z20-iNvPPfj3"
   },
   "outputs": [],
   "source": []
  },
  {
   "cell_type": "markdown",
   "metadata": {
    "id": "NdqvpuC0_Z3q"
   },
   "source": [
    "# Data Preprocessing - Chris"
   ]
  },
  {
   "cell_type": "code",
   "execution_count": null,
   "metadata": {
    "colab": {
     "base_uri": "https://localhost:8080/",
     "height": 374
    },
    "executionInfo": {
     "elapsed": 4672,
     "status": "ok",
     "timestamp": 1679419652881,
     "user": {
      "displayName": "Chris Berniel Cobashatse",
      "userId": "03919265741993638190"
     },
     "user_tz": 240
    },
    "id": "TCc0rU-gPfnj",
    "outputId": "f0a6e1ef-fafa-40fb-8d95-b58ab7f12816"
   },
   "outputs": [
    {
     "data": {
      "text/html": [
       "\n",
       "  <div id=\"df-aa264b5c-b908-4e90-b587-99b3e3e64844\">\n",
       "    <div class=\"colab-df-container\">\n",
       "      <div>\n",
       "<style scoped>\n",
       "    .dataframe tbody tr th:only-of-type {\n",
       "        vertical-align: middle;\n",
       "    }\n",
       "\n",
       "    .dataframe tbody tr th {\n",
       "        vertical-align: top;\n",
       "    }\n",
       "\n",
       "    .dataframe thead th {\n",
       "        text-align: right;\n",
       "    }\n",
       "</style>\n",
       "<table border=\"1\" class=\"dataframe\">\n",
       "  <thead>\n",
       "    <tr style=\"text-align: right;\">\n",
       "      <th></th>\n",
       "      <th>id</th>\n",
       "      <th>name</th>\n",
       "      <th>popularity</th>\n",
       "      <th>duration_ms</th>\n",
       "      <th>explicit</th>\n",
       "      <th>artists</th>\n",
       "      <th>id_artists</th>\n",
       "      <th>release_date</th>\n",
       "      <th>danceability</th>\n",
       "      <th>energy</th>\n",
       "      <th>key</th>\n",
       "      <th>loudness</th>\n",
       "      <th>mode</th>\n",
       "      <th>speechiness</th>\n",
       "      <th>acousticness</th>\n",
       "      <th>instrumentalness</th>\n",
       "      <th>liveness</th>\n",
       "      <th>valence</th>\n",
       "      <th>tempo</th>\n",
       "      <th>time_signature</th>\n",
       "    </tr>\n",
       "  </thead>\n",
       "  <tbody>\n",
       "    <tr>\n",
       "      <th>0</th>\n",
       "      <td>35iwgR4jXetI318WEWsa1Q</td>\n",
       "      <td>Carve</td>\n",
       "      <td>6</td>\n",
       "      <td>126903</td>\n",
       "      <td>0</td>\n",
       "      <td>['Uli']</td>\n",
       "      <td>['45tIt06XoI0Iio4LBEVpls']</td>\n",
       "      <td>1922-02-22</td>\n",
       "      <td>0.645</td>\n",
       "      <td>0.4450</td>\n",
       "      <td>0</td>\n",
       "      <td>-13.338</td>\n",
       "      <td>1</td>\n",
       "      <td>0.4510</td>\n",
       "      <td>0.674</td>\n",
       "      <td>0.7440</td>\n",
       "      <td>0.151</td>\n",
       "      <td>0.127</td>\n",
       "      <td>104.851</td>\n",
       "      <td>3</td>\n",
       "    </tr>\n",
       "    <tr>\n",
       "      <th>1</th>\n",
       "      <td>021ht4sdgPcrDgSk7JTbKY</td>\n",
       "      <td>Capítulo 2.16 - Banquero Anarquista</td>\n",
       "      <td>0</td>\n",
       "      <td>98200</td>\n",
       "      <td>0</td>\n",
       "      <td>['Fernando Pessoa']</td>\n",
       "      <td>['14jtPCOoNZwquk5wd9DxrY']</td>\n",
       "      <td>1922-06-01</td>\n",
       "      <td>0.695</td>\n",
       "      <td>0.2630</td>\n",
       "      <td>0</td>\n",
       "      <td>-22.136</td>\n",
       "      <td>1</td>\n",
       "      <td>0.9570</td>\n",
       "      <td>0.797</td>\n",
       "      <td>0.0000</td>\n",
       "      <td>0.148</td>\n",
       "      <td>0.655</td>\n",
       "      <td>102.009</td>\n",
       "      <td>1</td>\n",
       "    </tr>\n",
       "    <tr>\n",
       "      <th>2</th>\n",
       "      <td>07A5yehtSnoedViJAZkNnc</td>\n",
       "      <td>Vivo para Quererte - Remasterizado</td>\n",
       "      <td>0</td>\n",
       "      <td>181640</td>\n",
       "      <td>0</td>\n",
       "      <td>['Ignacio Corsini']</td>\n",
       "      <td>['5LiOoJbxVSAMkBS2fUm3X2']</td>\n",
       "      <td>1922-03-21</td>\n",
       "      <td>0.434</td>\n",
       "      <td>0.1770</td>\n",
       "      <td>1</td>\n",
       "      <td>-21.180</td>\n",
       "      <td>1</td>\n",
       "      <td>0.0512</td>\n",
       "      <td>0.994</td>\n",
       "      <td>0.0218</td>\n",
       "      <td>0.212</td>\n",
       "      <td>0.457</td>\n",
       "      <td>130.418</td>\n",
       "      <td>5</td>\n",
       "    </tr>\n",
       "    <tr>\n",
       "      <th>3</th>\n",
       "      <td>08FmqUhxtyLTn6pAh6bk45</td>\n",
       "      <td>El Prisionero - Remasterizado</td>\n",
       "      <td>0</td>\n",
       "      <td>176907</td>\n",
       "      <td>0</td>\n",
       "      <td>['Ignacio Corsini']</td>\n",
       "      <td>['5LiOoJbxVSAMkBS2fUm3X2']</td>\n",
       "      <td>1922-03-21</td>\n",
       "      <td>0.321</td>\n",
       "      <td>0.0946</td>\n",
       "      <td>7</td>\n",
       "      <td>-27.961</td>\n",
       "      <td>1</td>\n",
       "      <td>0.0504</td>\n",
       "      <td>0.995</td>\n",
       "      <td>0.9180</td>\n",
       "      <td>0.104</td>\n",
       "      <td>0.397</td>\n",
       "      <td>169.980</td>\n",
       "      <td>3</td>\n",
       "    </tr>\n",
       "    <tr>\n",
       "      <th>4</th>\n",
       "      <td>08y9GfoqCWfOGsKdwojr5e</td>\n",
       "      <td>Lady of the Evening</td>\n",
       "      <td>0</td>\n",
       "      <td>163080</td>\n",
       "      <td>0</td>\n",
       "      <td>['Dick Haymes']</td>\n",
       "      <td>['3BiJGZsyX9sJchTqcSA7Su']</td>\n",
       "      <td>1922</td>\n",
       "      <td>0.402</td>\n",
       "      <td>0.1580</td>\n",
       "      <td>3</td>\n",
       "      <td>-16.900</td>\n",
       "      <td>0</td>\n",
       "      <td>0.0390</td>\n",
       "      <td>0.989</td>\n",
       "      <td>0.1300</td>\n",
       "      <td>0.311</td>\n",
       "      <td>0.196</td>\n",
       "      <td>103.220</td>\n",
       "      <td>4</td>\n",
       "    </tr>\n",
       "  </tbody>\n",
       "</table>\n",
       "</div>\n",
       "      <button class=\"colab-df-convert\" onclick=\"convertToInteractive('df-aa264b5c-b908-4e90-b587-99b3e3e64844')\"\n",
       "              title=\"Convert this dataframe to an interactive table.\"\n",
       "              style=\"display:none;\">\n",
       "        \n",
       "  <svg xmlns=\"http://www.w3.org/2000/svg\" height=\"24px\"viewBox=\"0 0 24 24\"\n",
       "       width=\"24px\">\n",
       "    <path d=\"M0 0h24v24H0V0z\" fill=\"none\"/>\n",
       "    <path d=\"M18.56 5.44l.94 2.06.94-2.06 2.06-.94-2.06-.94-.94-2.06-.94 2.06-2.06.94zm-11 1L8.5 8.5l.94-2.06 2.06-.94-2.06-.94L8.5 2.5l-.94 2.06-2.06.94zm10 10l.94 2.06.94-2.06 2.06-.94-2.06-.94-.94-2.06-.94 2.06-2.06.94z\"/><path d=\"M17.41 7.96l-1.37-1.37c-.4-.4-.92-.59-1.43-.59-.52 0-1.04.2-1.43.59L10.3 9.45l-7.72 7.72c-.78.78-.78 2.05 0 2.83L4 21.41c.39.39.9.59 1.41.59.51 0 1.02-.2 1.41-.59l7.78-7.78 2.81-2.81c.8-.78.8-2.07 0-2.86zM5.41 20L4 18.59l7.72-7.72 1.47 1.35L5.41 20z\"/>\n",
       "  </svg>\n",
       "      </button>\n",
       "      \n",
       "  <style>\n",
       "    .colab-df-container {\n",
       "      display:flex;\n",
       "      flex-wrap:wrap;\n",
       "      gap: 12px;\n",
       "    }\n",
       "\n",
       "    .colab-df-convert {\n",
       "      background-color: #E8F0FE;\n",
       "      border: none;\n",
       "      border-radius: 50%;\n",
       "      cursor: pointer;\n",
       "      display: none;\n",
       "      fill: #1967D2;\n",
       "      height: 32px;\n",
       "      padding: 0 0 0 0;\n",
       "      width: 32px;\n",
       "    }\n",
       "\n",
       "    .colab-df-convert:hover {\n",
       "      background-color: #E2EBFA;\n",
       "      box-shadow: 0px 1px 2px rgba(60, 64, 67, 0.3), 0px 1px 3px 1px rgba(60, 64, 67, 0.15);\n",
       "      fill: #174EA6;\n",
       "    }\n",
       "\n",
       "    [theme=dark] .colab-df-convert {\n",
       "      background-color: #3B4455;\n",
       "      fill: #D2E3FC;\n",
       "    }\n",
       "\n",
       "    [theme=dark] .colab-df-convert:hover {\n",
       "      background-color: #434B5C;\n",
       "      box-shadow: 0px 1px 3px 1px rgba(0, 0, 0, 0.15);\n",
       "      filter: drop-shadow(0px 1px 2px rgba(0, 0, 0, 0.3));\n",
       "      fill: #FFFFFF;\n",
       "    }\n",
       "  </style>\n",
       "\n",
       "      <script>\n",
       "        const buttonEl =\n",
       "          document.querySelector('#df-aa264b5c-b908-4e90-b587-99b3e3e64844 button.colab-df-convert');\n",
       "        buttonEl.style.display =\n",
       "          google.colab.kernel.accessAllowed ? 'block' : 'none';\n",
       "\n",
       "        async function convertToInteractive(key) {\n",
       "          const element = document.querySelector('#df-aa264b5c-b908-4e90-b587-99b3e3e64844');\n",
       "          const dataTable =\n",
       "            await google.colab.kernel.invokeFunction('convertToInteractive',\n",
       "                                                     [key], {});\n",
       "          if (!dataTable) return;\n",
       "\n",
       "          const docLinkHtml = 'Like what you see? Visit the ' +\n",
       "            '<a target=\"_blank\" href=https://colab.research.google.com/notebooks/data_table.ipynb>data table notebook</a>'\n",
       "            + ' to learn more about interactive tables.';\n",
       "          element.innerHTML = '';\n",
       "          dataTable['output_type'] = 'display_data';\n",
       "          await google.colab.output.renderOutput(dataTable, element);\n",
       "          const docLink = document.createElement('div');\n",
       "          docLink.innerHTML = docLinkHtml;\n",
       "          element.appendChild(docLink);\n",
       "        }\n",
       "      </script>\n",
       "    </div>\n",
       "  </div>\n",
       "  "
      ],
      "text/plain": [
       "                       id                                 name  popularity  \\\n",
       "0  35iwgR4jXetI318WEWsa1Q                                Carve           6   \n",
       "1  021ht4sdgPcrDgSk7JTbKY  Capítulo 2.16 - Banquero Anarquista           0   \n",
       "2  07A5yehtSnoedViJAZkNnc   Vivo para Quererte - Remasterizado           0   \n",
       "3  08FmqUhxtyLTn6pAh6bk45        El Prisionero - Remasterizado           0   \n",
       "4  08y9GfoqCWfOGsKdwojr5e                  Lady of the Evening           0   \n",
       "\n",
       "   duration_ms  explicit              artists                  id_artists  \\\n",
       "0       126903         0              ['Uli']  ['45tIt06XoI0Iio4LBEVpls']   \n",
       "1        98200         0  ['Fernando Pessoa']  ['14jtPCOoNZwquk5wd9DxrY']   \n",
       "2       181640         0  ['Ignacio Corsini']  ['5LiOoJbxVSAMkBS2fUm3X2']   \n",
       "3       176907         0  ['Ignacio Corsini']  ['5LiOoJbxVSAMkBS2fUm3X2']   \n",
       "4       163080         0      ['Dick Haymes']  ['3BiJGZsyX9sJchTqcSA7Su']   \n",
       "\n",
       "  release_date  danceability  energy  key  loudness  mode  speechiness  \\\n",
       "0   1922-02-22         0.645  0.4450    0   -13.338     1       0.4510   \n",
       "1   1922-06-01         0.695  0.2630    0   -22.136     1       0.9570   \n",
       "2   1922-03-21         0.434  0.1770    1   -21.180     1       0.0512   \n",
       "3   1922-03-21         0.321  0.0946    7   -27.961     1       0.0504   \n",
       "4         1922         0.402  0.1580    3   -16.900     0       0.0390   \n",
       "\n",
       "   acousticness  instrumentalness  liveness  valence    tempo  time_signature  \n",
       "0         0.674            0.7440     0.151    0.127  104.851               3  \n",
       "1         0.797            0.0000     0.148    0.655  102.009               1  \n",
       "2         0.994            0.0218     0.212    0.457  130.418               5  \n",
       "3         0.995            0.9180     0.104    0.397  169.980               3  \n",
       "4         0.989            0.1300     0.311    0.196  103.220               4  "
      ]
     },
     "execution_count": 4,
     "metadata": {},
     "output_type": "execute_result"
    }
   ],
   "source": [
    "#tracks_df = pd.read_csv('./tracks.csv')\n",
    "tracks_df.head()"
   ]
  },
  {
   "cell_type": "code",
   "execution_count": null,
   "metadata": {
    "colab": {
     "base_uri": "https://localhost:8080/",
     "height": 206
    },
    "executionInfo": {
     "elapsed": 7449,
     "status": "ok",
     "timestamp": 1679421307188,
     "user": {
      "displayName": "Chris Berniel Cobashatse",
      "userId": "03919265741993638190"
     },
     "user_tz": 240
    },
    "id": "i0IU1zJBPfqs",
    "outputId": "009843e4-ebe7-4c87-d1a3-f3d392696d5a"
   },
   "outputs": [
    {
     "data": {
      "text/html": [
       "\n",
       "  <div id=\"df-a16e1b9b-e8d0-42cd-9b59-1995297afe01\">\n",
       "    <div class=\"colab-df-container\">\n",
       "      <div>\n",
       "<style scoped>\n",
       "    .dataframe tbody tr th:only-of-type {\n",
       "        vertical-align: middle;\n",
       "    }\n",
       "\n",
       "    .dataframe tbody tr th {\n",
       "        vertical-align: top;\n",
       "    }\n",
       "\n",
       "    .dataframe thead th {\n",
       "        text-align: right;\n",
       "    }\n",
       "</style>\n",
       "<table border=\"1\" class=\"dataframe\">\n",
       "  <thead>\n",
       "    <tr style=\"text-align: right;\">\n",
       "      <th></th>\n",
       "      <th>id</th>\n",
       "      <th>followers</th>\n",
       "      <th>genres</th>\n",
       "      <th>name</th>\n",
       "      <th>popularity</th>\n",
       "    </tr>\n",
       "  </thead>\n",
       "  <tbody>\n",
       "    <tr>\n",
       "      <th>0</th>\n",
       "      <td>0DheY5irMjBUeLybbCUEZ2</td>\n",
       "      <td>0.0</td>\n",
       "      <td>[]</td>\n",
       "      <td>Armid &amp; Amir Zare Pashai feat. Sara Rouzbehani</td>\n",
       "      <td>0</td>\n",
       "    </tr>\n",
       "    <tr>\n",
       "      <th>1</th>\n",
       "      <td>0DlhY15l3wsrnlfGio2bjU</td>\n",
       "      <td>5.0</td>\n",
       "      <td>[]</td>\n",
       "      <td>ปูนา ภาวิณี</td>\n",
       "      <td>0</td>\n",
       "    </tr>\n",
       "    <tr>\n",
       "      <th>2</th>\n",
       "      <td>0DmRESX2JknGPQyO15yxg7</td>\n",
       "      <td>0.0</td>\n",
       "      <td>[]</td>\n",
       "      <td>Sadaa</td>\n",
       "      <td>0</td>\n",
       "    </tr>\n",
       "    <tr>\n",
       "      <th>3</th>\n",
       "      <td>0DmhnbHjm1qw6NCYPeZNgJ</td>\n",
       "      <td>0.0</td>\n",
       "      <td>[]</td>\n",
       "      <td>Tra'gruda</td>\n",
       "      <td>0</td>\n",
       "    </tr>\n",
       "    <tr>\n",
       "      <th>4</th>\n",
       "      <td>0Dn11fWM7vHQ3rinvWEl4E</td>\n",
       "      <td>2.0</td>\n",
       "      <td>[]</td>\n",
       "      <td>Ioannis Panoutsopoulos</td>\n",
       "      <td>0</td>\n",
       "    </tr>\n",
       "  </tbody>\n",
       "</table>\n",
       "</div>\n",
       "      <button class=\"colab-df-convert\" onclick=\"convertToInteractive('df-a16e1b9b-e8d0-42cd-9b59-1995297afe01')\"\n",
       "              title=\"Convert this dataframe to an interactive table.\"\n",
       "              style=\"display:none;\">\n",
       "        \n",
       "  <svg xmlns=\"http://www.w3.org/2000/svg\" height=\"24px\"viewBox=\"0 0 24 24\"\n",
       "       width=\"24px\">\n",
       "    <path d=\"M0 0h24v24H0V0z\" fill=\"none\"/>\n",
       "    <path d=\"M18.56 5.44l.94 2.06.94-2.06 2.06-.94-2.06-.94-.94-2.06-.94 2.06-2.06.94zm-11 1L8.5 8.5l.94-2.06 2.06-.94-2.06-.94L8.5 2.5l-.94 2.06-2.06.94zm10 10l.94 2.06.94-2.06 2.06-.94-2.06-.94-.94-2.06-.94 2.06-2.06.94z\"/><path d=\"M17.41 7.96l-1.37-1.37c-.4-.4-.92-.59-1.43-.59-.52 0-1.04.2-1.43.59L10.3 9.45l-7.72 7.72c-.78.78-.78 2.05 0 2.83L4 21.41c.39.39.9.59 1.41.59.51 0 1.02-.2 1.41-.59l7.78-7.78 2.81-2.81c.8-.78.8-2.07 0-2.86zM5.41 20L4 18.59l7.72-7.72 1.47 1.35L5.41 20z\"/>\n",
       "  </svg>\n",
       "      </button>\n",
       "      \n",
       "  <style>\n",
       "    .colab-df-container {\n",
       "      display:flex;\n",
       "      flex-wrap:wrap;\n",
       "      gap: 12px;\n",
       "    }\n",
       "\n",
       "    .colab-df-convert {\n",
       "      background-color: #E8F0FE;\n",
       "      border: none;\n",
       "      border-radius: 50%;\n",
       "      cursor: pointer;\n",
       "      display: none;\n",
       "      fill: #1967D2;\n",
       "      height: 32px;\n",
       "      padding: 0 0 0 0;\n",
       "      width: 32px;\n",
       "    }\n",
       "\n",
       "    .colab-df-convert:hover {\n",
       "      background-color: #E2EBFA;\n",
       "      box-shadow: 0px 1px 2px rgba(60, 64, 67, 0.3), 0px 1px 3px 1px rgba(60, 64, 67, 0.15);\n",
       "      fill: #174EA6;\n",
       "    }\n",
       "\n",
       "    [theme=dark] .colab-df-convert {\n",
       "      background-color: #3B4455;\n",
       "      fill: #D2E3FC;\n",
       "    }\n",
       "\n",
       "    [theme=dark] .colab-df-convert:hover {\n",
       "      background-color: #434B5C;\n",
       "      box-shadow: 0px 1px 3px 1px rgba(0, 0, 0, 0.15);\n",
       "      filter: drop-shadow(0px 1px 2px rgba(0, 0, 0, 0.3));\n",
       "      fill: #FFFFFF;\n",
       "    }\n",
       "  </style>\n",
       "\n",
       "      <script>\n",
       "        const buttonEl =\n",
       "          document.querySelector('#df-a16e1b9b-e8d0-42cd-9b59-1995297afe01 button.colab-df-convert');\n",
       "        buttonEl.style.display =\n",
       "          google.colab.kernel.accessAllowed ? 'block' : 'none';\n",
       "\n",
       "        async function convertToInteractive(key) {\n",
       "          const element = document.querySelector('#df-a16e1b9b-e8d0-42cd-9b59-1995297afe01');\n",
       "          const dataTable =\n",
       "            await google.colab.kernel.invokeFunction('convertToInteractive',\n",
       "                                                     [key], {});\n",
       "          if (!dataTable) return;\n",
       "\n",
       "          const docLinkHtml = 'Like what you see? Visit the ' +\n",
       "            '<a target=\"_blank\" href=https://colab.research.google.com/notebooks/data_table.ipynb>data table notebook</a>'\n",
       "            + ' to learn more about interactive tables.';\n",
       "          element.innerHTML = '';\n",
       "          dataTable['output_type'] = 'display_data';\n",
       "          await google.colab.output.renderOutput(dataTable, element);\n",
       "          const docLink = document.createElement('div');\n",
       "          docLink.innerHTML = docLinkHtml;\n",
       "          element.appendChild(docLink);\n",
       "        }\n",
       "      </script>\n",
       "    </div>\n",
       "  </div>\n",
       "  "
      ],
      "text/plain": [
       "                       id  followers genres  \\\n",
       "0  0DheY5irMjBUeLybbCUEZ2        0.0     []   \n",
       "1  0DlhY15l3wsrnlfGio2bjU        5.0     []   \n",
       "2  0DmRESX2JknGPQyO15yxg7        0.0     []   \n",
       "3  0DmhnbHjm1qw6NCYPeZNgJ        0.0     []   \n",
       "4  0Dn11fWM7vHQ3rinvWEl4E        2.0     []   \n",
       "\n",
       "                                             name  popularity  \n",
       "0  Armid & Amir Zare Pashai feat. Sara Rouzbehani           0  \n",
       "1                                     ปูนา ภาวิณี           0  \n",
       "2                                           Sadaa           0  \n",
       "3                                       Tra'gruda           0  \n",
       "4                          Ioannis Panoutsopoulos           0  "
      ]
     },
     "execution_count": 6,
     "metadata": {},
     "output_type": "execute_result"
    }
   ],
   "source": [
    "#artists_df = pd.read_csv('./artists.csv')\n",
    "artists_df.head()"
   ]
  },
  {
   "cell_type": "code",
   "execution_count": null,
   "metadata": {
    "id": "N-EyCmw6Pftn"
   },
   "outputs": [],
   "source": [
    "# dict_artists_df = pd.read_json('./dict_artists.json')\n",
    "# dict_artists_df.head()"
   ]
  },
  {
   "cell_type": "markdown",
   "metadata": {
    "id": "V65qFznFT_Ar"
   },
   "source": [
    "The values for attributes artists and id_artists in the tracks dataset have to be reformatted into strings without the brackets and single quotes.\n",
    "\n",
    "This is done in order to facilitate the merging of the two datasets: artists and tracks."
   ]
  },
  {
   "cell_type": "code",
   "execution_count": 5,
   "metadata": {
    "id": "FvE_BL5v_r1S"
   },
   "outputs": [],
   "source": [
    "# reformatting values from the tracks dataframe\n",
    "artists = tracks_df['artists']\n",
    "new_artists = artists.str.strip(\"['\")\n",
    "new_artists = new_artists.str.strip(\"']\")\n",
    "tracks_df['artists'] = new_artists\n",
    "\n",
    "artists_id = tracks_df['id_artists']\n",
    "new_artists_id = artists_id.str.strip(\"['\")\n",
    "new_artists_id = new_artists_id.str.strip(\"']\")\n",
    "tracks_df['id_artists'] = new_artists_id\n",
    "\n",
    "tracks_df.rename(columns={'id_artists': 'id_artists_tracks'}, inplace=True)"
   ]
  },
  {
   "cell_type": "code",
   "execution_count": 8,
   "metadata": {
    "colab": {
     "base_uri": "https://localhost:8080/",
     "height": 627
    },
    "executionInfo": {
     "elapsed": 2389,
     "status": "ok",
     "timestamp": 1679421487222,
     "user": {
      "displayName": "Chris Berniel Cobashatse",
      "userId": "03919265741993638190"
     },
     "user_tz": 240
    },
    "id": "TrrB_Ga9Pf9d",
    "outputId": "270780b2-f58f-43fc-95d8-e3f65d31faa8"
   },
   "outputs": [
    {
     "data": {
      "text/html": [
       "<div>\n",
       "<style scoped>\n",
       "    .dataframe tbody tr th:only-of-type {\n",
       "        vertical-align: middle;\n",
       "    }\n",
       "\n",
       "    .dataframe tbody tr th {\n",
       "        vertical-align: top;\n",
       "    }\n",
       "\n",
       "    .dataframe thead th {\n",
       "        text-align: right;\n",
       "    }\n",
       "</style>\n",
       "<table border=\"1\" class=\"dataframe\">\n",
       "  <thead>\n",
       "    <tr style=\"text-align: right;\">\n",
       "      <th></th>\n",
       "      <th>id_tracks</th>\n",
       "      <th>name_tracks</th>\n",
       "      <th>popularity_tracks</th>\n",
       "      <th>duration_ms</th>\n",
       "      <th>explicit</th>\n",
       "      <th>release_date</th>\n",
       "      <th>danceability</th>\n",
       "      <th>energy</th>\n",
       "      <th>key</th>\n",
       "      <th>loudness</th>\n",
       "      <th>...</th>\n",
       "      <th>instrumentalness</th>\n",
       "      <th>liveness</th>\n",
       "      <th>valence</th>\n",
       "      <th>tempo</th>\n",
       "      <th>time_signature</th>\n",
       "      <th>id_artists</th>\n",
       "      <th>followers</th>\n",
       "      <th>genres</th>\n",
       "      <th>name_artists</th>\n",
       "      <th>popularity_artists</th>\n",
       "    </tr>\n",
       "  </thead>\n",
       "  <tbody>\n",
       "    <tr>\n",
       "      <th>0</th>\n",
       "      <td>35iwgR4jXetI318WEWsa1Q</td>\n",
       "      <td>Carve</td>\n",
       "      <td>6</td>\n",
       "      <td>126903</td>\n",
       "      <td>0</td>\n",
       "      <td>1922-02-22</td>\n",
       "      <td>0.645</td>\n",
       "      <td>0.44500</td>\n",
       "      <td>0</td>\n",
       "      <td>-13.338</td>\n",
       "      <td>...</td>\n",
       "      <td>0.744000</td>\n",
       "      <td>0.1510</td>\n",
       "      <td>0.127</td>\n",
       "      <td>104.851</td>\n",
       "      <td>3</td>\n",
       "      <td>45tIt06XoI0Iio4LBEVpls</td>\n",
       "      <td>91.0</td>\n",
       "      <td>[]</td>\n",
       "      <td>Uli</td>\n",
       "      <td>4</td>\n",
       "    </tr>\n",
       "    <tr>\n",
       "      <th>1</th>\n",
       "      <td>0PH9AACae1f957JAavhOl2</td>\n",
       "      <td>Lazy Boi</td>\n",
       "      <td>0</td>\n",
       "      <td>157333</td>\n",
       "      <td>0</td>\n",
       "      <td>1922-02-22</td>\n",
       "      <td>0.298</td>\n",
       "      <td>0.46000</td>\n",
       "      <td>1</td>\n",
       "      <td>-18.645</td>\n",
       "      <td>...</td>\n",
       "      <td>0.856000</td>\n",
       "      <td>0.4360</td>\n",
       "      <td>0.402</td>\n",
       "      <td>87.921</td>\n",
       "      <td>4</td>\n",
       "      <td>45tIt06XoI0Iio4LBEVpls</td>\n",
       "      <td>91.0</td>\n",
       "      <td>[]</td>\n",
       "      <td>Uli</td>\n",
       "      <td>4</td>\n",
       "    </tr>\n",
       "    <tr>\n",
       "      <th>2</th>\n",
       "      <td>2SiNuAZ6jIU9xhClRKXcST</td>\n",
       "      <td>Sketch</td>\n",
       "      <td>0</td>\n",
       "      <td>87040</td>\n",
       "      <td>0</td>\n",
       "      <td>1922-02-22</td>\n",
       "      <td>0.634</td>\n",
       "      <td>0.00399</td>\n",
       "      <td>5</td>\n",
       "      <td>-29.973</td>\n",
       "      <td>...</td>\n",
       "      <td>0.919000</td>\n",
       "      <td>0.1050</td>\n",
       "      <td>0.396</td>\n",
       "      <td>79.895</td>\n",
       "      <td>4</td>\n",
       "      <td>45tIt06XoI0Iio4LBEVpls</td>\n",
       "      <td>91.0</td>\n",
       "      <td>[]</td>\n",
       "      <td>Uli</td>\n",
       "      <td>4</td>\n",
       "    </tr>\n",
       "    <tr>\n",
       "      <th>3</th>\n",
       "      <td>4vV7uBcF2AnjNTOejBS5oL</td>\n",
       "      <td>L'enfer</td>\n",
       "      <td>0</td>\n",
       "      <td>40000</td>\n",
       "      <td>0</td>\n",
       "      <td>1922-02-22</td>\n",
       "      <td>0.657</td>\n",
       "      <td>0.32500</td>\n",
       "      <td>10</td>\n",
       "      <td>-14.319</td>\n",
       "      <td>...</td>\n",
       "      <td>0.856000</td>\n",
       "      <td>0.0931</td>\n",
       "      <td>0.105</td>\n",
       "      <td>81.944</td>\n",
       "      <td>5</td>\n",
       "      <td>45tIt06XoI0Iio4LBEVpls</td>\n",
       "      <td>91.0</td>\n",
       "      <td>[]</td>\n",
       "      <td>Uli</td>\n",
       "      <td>4</td>\n",
       "    </tr>\n",
       "    <tr>\n",
       "      <th>4</th>\n",
       "      <td>598LlBn6jpEpVbLjmZPsYV</td>\n",
       "      <td>Graphite</td>\n",
       "      <td>0</td>\n",
       "      <td>104400</td>\n",
       "      <td>0</td>\n",
       "      <td>1922-02-22</td>\n",
       "      <td>0.644</td>\n",
       "      <td>0.68400</td>\n",
       "      <td>7</td>\n",
       "      <td>-8.247</td>\n",
       "      <td>...</td>\n",
       "      <td>0.802000</td>\n",
       "      <td>0.0847</td>\n",
       "      <td>0.138</td>\n",
       "      <td>100.031</td>\n",
       "      <td>4</td>\n",
       "      <td>45tIt06XoI0Iio4LBEVpls</td>\n",
       "      <td>91.0</td>\n",
       "      <td>[]</td>\n",
       "      <td>Uli</td>\n",
       "      <td>4</td>\n",
       "    </tr>\n",
       "    <tr>\n",
       "      <th>...</th>\n",
       "      <td>...</td>\n",
       "      <td>...</td>\n",
       "      <td>...</td>\n",
       "      <td>...</td>\n",
       "      <td>...</td>\n",
       "      <td>...</td>\n",
       "      <td>...</td>\n",
       "      <td>...</td>\n",
       "      <td>...</td>\n",
       "      <td>...</td>\n",
       "      <td>...</td>\n",
       "      <td>...</td>\n",
       "      <td>...</td>\n",
       "      <td>...</td>\n",
       "      <td>...</td>\n",
       "      <td>...</td>\n",
       "      <td>...</td>\n",
       "      <td>...</td>\n",
       "      <td>...</td>\n",
       "      <td>...</td>\n",
       "      <td>...</td>\n",
       "    </tr>\n",
       "    <tr>\n",
       "      <th>470033</th>\n",
       "      <td>0MmaEacabpK8Yp3Mdeo5uY</td>\n",
       "      <td>下雨天</td>\n",
       "      <td>50</td>\n",
       "      <td>265846</td>\n",
       "      <td>0</td>\n",
       "      <td>2020-02-25</td>\n",
       "      <td>0.528</td>\n",
       "      <td>0.67300</td>\n",
       "      <td>4</td>\n",
       "      <td>-3.639</td>\n",
       "      <td>...</td>\n",
       "      <td>0.000000</td>\n",
       "      <td>0.0989</td>\n",
       "      <td>0.297</td>\n",
       "      <td>130.066</td>\n",
       "      <td>4</td>\n",
       "      <td>5VGgFE9nPgMfEnYiPT5J2B</td>\n",
       "      <td>929.0</td>\n",
       "      <td>['chinese viral pop']</td>\n",
       "      <td>芝麻</td>\n",
       "      <td>36</td>\n",
       "    </tr>\n",
       "    <tr>\n",
       "      <th>470034</th>\n",
       "      <td>1dKxf4Ht2SsKLyXfSDJAgy</td>\n",
       "      <td>The Cutest Puppy</td>\n",
       "      <td>67</td>\n",
       "      <td>82500</td>\n",
       "      <td>0</td>\n",
       "      <td>2020-10-30</td>\n",
       "      <td>0.609</td>\n",
       "      <td>0.01720</td>\n",
       "      <td>8</td>\n",
       "      <td>-28.573</td>\n",
       "      <td>...</td>\n",
       "      <td>0.973000</td>\n",
       "      <td>0.1080</td>\n",
       "      <td>0.890</td>\n",
       "      <td>68.619</td>\n",
       "      <td>4</td>\n",
       "      <td>7vgGpuiXdNlCmc994PlMlz</td>\n",
       "      <td>23.0</td>\n",
       "      <td>['instrumental lullaby']</td>\n",
       "      <td>Laureen Conrad</td>\n",
       "      <td>52</td>\n",
       "    </tr>\n",
       "    <tr>\n",
       "      <th>470035</th>\n",
       "      <td>0SjsIzJkZfDU7wlcdklEFR</td>\n",
       "      <td>John Brown's Song</td>\n",
       "      <td>66</td>\n",
       "      <td>185250</td>\n",
       "      <td>0</td>\n",
       "      <td>2020-03-20</td>\n",
       "      <td>0.562</td>\n",
       "      <td>0.03310</td>\n",
       "      <td>1</td>\n",
       "      <td>-25.551</td>\n",
       "      <td>...</td>\n",
       "      <td>0.961000</td>\n",
       "      <td>0.1110</td>\n",
       "      <td>0.386</td>\n",
       "      <td>63.696</td>\n",
       "      <td>3</td>\n",
       "      <td>4MxqhahGRT4BPz1PilXGeu</td>\n",
       "      <td>91.0</td>\n",
       "      <td>['instrumental lullaby']</td>\n",
       "      <td>Gregory Oberle</td>\n",
       "      <td>55</td>\n",
       "    </tr>\n",
       "    <tr>\n",
       "      <th>470036</th>\n",
       "      <td>5rgu12WBIHQtvej2MdHSH0</td>\n",
       "      <td>云与海</td>\n",
       "      <td>50</td>\n",
       "      <td>258267</td>\n",
       "      <td>0</td>\n",
       "      <td>2020-09-26</td>\n",
       "      <td>0.560</td>\n",
       "      <td>0.51800</td>\n",
       "      <td>0</td>\n",
       "      <td>-7.471</td>\n",
       "      <td>...</td>\n",
       "      <td>0.000000</td>\n",
       "      <td>0.0648</td>\n",
       "      <td>0.211</td>\n",
       "      <td>131.896</td>\n",
       "      <td>4</td>\n",
       "      <td>1QLBXKM5GCpyQQSVMNZqrZ</td>\n",
       "      <td>896.0</td>\n",
       "      <td>['chinese viral pop']</td>\n",
       "      <td>阿YueYue</td>\n",
       "      <td>38</td>\n",
       "    </tr>\n",
       "    <tr>\n",
       "      <th>470037</th>\n",
       "      <td>0NuWgxEp51CutD2pJoF4OM</td>\n",
       "      <td>blind</td>\n",
       "      <td>72</td>\n",
       "      <td>153293</td>\n",
       "      <td>0</td>\n",
       "      <td>2020-10-21</td>\n",
       "      <td>0.765</td>\n",
       "      <td>0.66300</td>\n",
       "      <td>0</td>\n",
       "      <td>-5.223</td>\n",
       "      <td>...</td>\n",
       "      <td>0.000297</td>\n",
       "      <td>0.0924</td>\n",
       "      <td>0.686</td>\n",
       "      <td>150.091</td>\n",
       "      <td>4</td>\n",
       "      <td>1dy5WNgIKQU6ezkpZs4y8z</td>\n",
       "      <td>245944.0</td>\n",
       "      <td>['alt z', 'alternative r&amp;b', 'bedroom pop', 'i...</td>\n",
       "      <td>ROLE MODEL</td>\n",
       "      <td>67</td>\n",
       "    </tr>\n",
       "  </tbody>\n",
       "</table>\n",
       "<p>470038 rows × 23 columns</p>\n",
       "</div>"
      ],
      "text/plain": [
       "                     id_tracks        name_tracks  popularity_tracks  \\\n",
       "0       35iwgR4jXetI318WEWsa1Q              Carve                  6   \n",
       "1       0PH9AACae1f957JAavhOl2           Lazy Boi                  0   \n",
       "2       2SiNuAZ6jIU9xhClRKXcST             Sketch                  0   \n",
       "3       4vV7uBcF2AnjNTOejBS5oL            L'enfer                  0   \n",
       "4       598LlBn6jpEpVbLjmZPsYV           Graphite                  0   \n",
       "...                        ...                ...                ...   \n",
       "470033  0MmaEacabpK8Yp3Mdeo5uY                下雨天                 50   \n",
       "470034  1dKxf4Ht2SsKLyXfSDJAgy   The Cutest Puppy                 67   \n",
       "470035  0SjsIzJkZfDU7wlcdklEFR  John Brown's Song                 66   \n",
       "470036  5rgu12WBIHQtvej2MdHSH0                云与海                 50   \n",
       "470037  0NuWgxEp51CutD2pJoF4OM              blind                 72   \n",
       "\n",
       "        duration_ms  explicit release_date  danceability   energy  key  \\\n",
       "0            126903         0   1922-02-22         0.645  0.44500    0   \n",
       "1            157333         0   1922-02-22         0.298  0.46000    1   \n",
       "2             87040         0   1922-02-22         0.634  0.00399    5   \n",
       "3             40000         0   1922-02-22         0.657  0.32500   10   \n",
       "4            104400         0   1922-02-22         0.644  0.68400    7   \n",
       "...             ...       ...          ...           ...      ...  ...   \n",
       "470033       265846         0   2020-02-25         0.528  0.67300    4   \n",
       "470034        82500         0   2020-10-30         0.609  0.01720    8   \n",
       "470035       185250         0   2020-03-20         0.562  0.03310    1   \n",
       "470036       258267         0   2020-09-26         0.560  0.51800    0   \n",
       "470037       153293         0   2020-10-21         0.765  0.66300    0   \n",
       "\n",
       "        loudness  ...  instrumentalness  liveness  valence    tempo  \\\n",
       "0        -13.338  ...          0.744000    0.1510    0.127  104.851   \n",
       "1        -18.645  ...          0.856000    0.4360    0.402   87.921   \n",
       "2        -29.973  ...          0.919000    0.1050    0.396   79.895   \n",
       "3        -14.319  ...          0.856000    0.0931    0.105   81.944   \n",
       "4         -8.247  ...          0.802000    0.0847    0.138  100.031   \n",
       "...          ...  ...               ...       ...      ...      ...   \n",
       "470033    -3.639  ...          0.000000    0.0989    0.297  130.066   \n",
       "470034   -28.573  ...          0.973000    0.1080    0.890   68.619   \n",
       "470035   -25.551  ...          0.961000    0.1110    0.386   63.696   \n",
       "470036    -7.471  ...          0.000000    0.0648    0.211  131.896   \n",
       "470037    -5.223  ...          0.000297    0.0924    0.686  150.091   \n",
       "\n",
       "        time_signature              id_artists  followers  \\\n",
       "0                    3  45tIt06XoI0Iio4LBEVpls       91.0   \n",
       "1                    4  45tIt06XoI0Iio4LBEVpls       91.0   \n",
       "2                    4  45tIt06XoI0Iio4LBEVpls       91.0   \n",
       "3                    5  45tIt06XoI0Iio4LBEVpls       91.0   \n",
       "4                    4  45tIt06XoI0Iio4LBEVpls       91.0   \n",
       "...                ...                     ...        ...   \n",
       "470033               4  5VGgFE9nPgMfEnYiPT5J2B      929.0   \n",
       "470034               4  7vgGpuiXdNlCmc994PlMlz       23.0   \n",
       "470035               3  4MxqhahGRT4BPz1PilXGeu       91.0   \n",
       "470036               4  1QLBXKM5GCpyQQSVMNZqrZ      896.0   \n",
       "470037               4  1dy5WNgIKQU6ezkpZs4y8z   245944.0   \n",
       "\n",
       "                                                   genres    name_artists  \\\n",
       "0                                                      []             Uli   \n",
       "1                                                      []             Uli   \n",
       "2                                                      []             Uli   \n",
       "3                                                      []             Uli   \n",
       "4                                                      []             Uli   \n",
       "...                                                   ...             ...   \n",
       "470033                              ['chinese viral pop']              芝麻   \n",
       "470034                           ['instrumental lullaby']  Laureen Conrad   \n",
       "470035                           ['instrumental lullaby']  Gregory Oberle   \n",
       "470036                              ['chinese viral pop']         阿YueYue   \n",
       "470037  ['alt z', 'alternative r&b', 'bedroom pop', 'i...      ROLE MODEL   \n",
       "\n",
       "        popularity_artists  \n",
       "0                        4  \n",
       "1                        4  \n",
       "2                        4  \n",
       "3                        4  \n",
       "4                        4  \n",
       "...                    ...  \n",
       "470033                  36  \n",
       "470034                  52  \n",
       "470035                  55  \n",
       "470036                  38  \n",
       "470037                  67  \n",
       "\n",
       "[470038 rows x 23 columns]"
      ]
     },
     "execution_count": 8,
     "metadata": {},
     "output_type": "execute_result"
    }
   ],
   "source": [
    "# merging the 2 dataframes\n",
    "merged_df = tracks_df.merge(artists_df, how='inner', left_on='id_artists_tracks', right_on='id', suffixes=('_tracks', '_artists'))\n",
    "\n",
    "# removing duplicated columns\n",
    "id_artists = merged_df['id_artists']\n",
    "merged_df = merged_df.drop(columns=['artists', 'id_artists_tracks'])\n",
    "merged_df['id_artists'] = id_artists\n",
    "\n",
    "merged_df"
   ]
  },
  {
   "cell_type": "code",
   "execution_count": null,
   "metadata": {
    "colab": {
     "base_uri": "https://localhost:8080/"
    },
    "executionInfo": {
     "elapsed": 175,
     "status": "ok",
     "timestamp": 1679421592765,
     "user": {
      "displayName": "Chris Berniel Cobashatse",
      "userId": "03919265741993638190"
     },
     "user_tz": 240
    },
    "id": "BWOunnstHPia",
    "outputId": "1d54c895-fa2a-4d37-d1af-6dd2ba46ead6"
   },
   "outputs": [
    {
     "name": "stdout",
     "output_type": "stream",
     "text": [
      "470038\n",
      "1162095\n",
      "586672\n"
     ]
    }
   ],
   "source": [
    "print(len(merged_df))\n",
    "print(len(artists_df))\n",
    "print(len(tracks_df))"
   ]
  },
  {
   "cell_type": "markdown",
   "metadata": {
    "id": "FPmr0YcFUsqy"
   },
   "source": [
    "After merging the artists (1M+ entries) and tracks (500K+ entries) datasets, we get the merged dataset with 470038 entries."
   ]
  },
  {
   "cell_type": "code",
   "execution_count": null,
   "metadata": {
    "colab": {
     "base_uri": "https://localhost:8080/"
    },
    "executionInfo": {
     "elapsed": 170,
     "status": "ok",
     "timestamp": 1679421720103,
     "user": {
      "displayName": "Chris Berniel Cobashatse",
      "userId": "03919265741993638190"
     },
     "user_tz": 240
    },
    "id": "hlXCrcoMPgGz",
    "outputId": "7d542c81-df65-4e7f-9f2b-3a6376bc687e"
   },
   "outputs": [
    {
     "name": "stdout",
     "output_type": "stream",
     "text": [
      "23\n"
     ]
    },
    {
     "data": {
      "text/plain": [
       "Index(['id_tracks', 'name_tracks', 'popularity_tracks', 'duration_ms',\n",
       "       'explicit', 'release_date', 'danceability', 'energy', 'key', 'loudness',\n",
       "       'mode', 'speechiness', 'acousticness', 'instrumentalness', 'liveness',\n",
       "       'valence', 'tempo', 'time_signature', 'id_artists', 'followers',\n",
       "       'genres', 'name_artists', 'popularity_artists'],\n",
       "      dtype='object')"
      ]
     },
     "execution_count": 11,
     "metadata": {},
     "output_type": "execute_result"
    }
   ],
   "source": [
    "print(len(merged_df.columns))\n",
    "merged_df.columns"
   ]
  },
  {
   "cell_type": "markdown",
   "metadata": {
    "id": "6n_FXpr1M7Z0"
   },
   "source": [
    "We have 23 columns or features. There are:\n",
    "\n",
    "- **Numerical features** (16): duration_ms, explicit, danceability, energy, key, loudness, mode, speechiness, acousticness, instrumentalness, liveness, valence, tempo, time_signature, followers, popularity_artists\n",
    "\n",
    "- **Categorical features** (4): id_tracks, name_tracks, id_artists, name_artists\n",
    "\n",
    "- **Date feature** (1): release_date\n",
    "\n",
    "- **Other feature** (1): genres (array of genres for that artist)\n",
    "- **Target**: popularity_tracks\n"
   ]
  },
  {
   "cell_type": "markdown",
   "metadata": {
    "id": "HkSjutUuavY2"
   },
   "source": [
    "## Initial Data Exploration"
   ]
  },
  {
   "cell_type": "code",
   "execution_count": 9,
   "metadata": {
    "id": "TFsAKc9Rc1dY"
   },
   "outputs": [],
   "source": [
    "num_features = ['duration_ms', 'explicit', 'danceability', 'energy', 'key',\n",
    "                'loudness', 'mode', 'speechiness', 'acousticness',\n",
    "                'instrumentalness', 'liveness', 'valence', 'tempo',\n",
    "                'time_signature', 'followers', 'popularity_artists']\n",
    "cat_features = ['id_tracks', 'name_tracks', 'id_artists', 'name_artists']\n",
    "date_feature = ['release_date']\n",
    "other_feature = ['genres']\n",
    "target = ['popularity_tracks']"
   ]
  },
  {
   "cell_type": "code",
   "execution_count": 10,
   "metadata": {
    "colab": {
     "base_uri": "https://localhost:8080/"
    },
    "executionInfo": {
     "elapsed": 174,
     "status": "ok",
     "timestamp": 1679423550100,
     "user": {
      "displayName": "Chris Berniel Cobashatse",
      "userId": "03919265741993638190"
     },
     "user_tz": 240
    },
    "id": "4uYmcIPbcWpo",
    "outputId": "00f3acde-3581-4ed6-d590-603c783061d8"
   },
   "outputs": [
    {
     "data": {
      "text/plain": [
       "array([126903, 157333,  87040, ..., 331839, 276342, 203555], dtype=int64)"
      ]
     },
     "execution_count": 10,
     "metadata": {},
     "output_type": "execute_result"
    }
   ],
   "source": [
    "merged_df['duration_ms'].unique()"
   ]
  },
  {
   "cell_type": "code",
   "execution_count": 11,
   "metadata": {
    "colab": {
     "base_uri": "https://localhost:8080/",
     "height": 873
    },
    "executionInfo": {
     "elapsed": 7171,
     "status": "ok",
     "timestamp": 1679424682174,
     "user": {
      "displayName": "Chris Berniel Cobashatse",
      "userId": "03919265741993638190"
     },
     "user_tz": 240
    },
    "id": "XnZSQIPcPgZQ",
    "outputId": "50b65e9f-4027-46f9-dcc4-505dff14bafe"
   },
   "outputs": [
    {
     "data": {
      "image/png": "[encoded data removed]",
      "text/plain": [
       "<Figure size 2000x1200 with 16 Axes>"
      ]
     },
     "metadata": {},
     "output_type": "display_data"
    }
   ],
   "source": [
    "### Histograms for the numerical features\n",
    "# fig = plt.figure(tight_layout=True)\n",
    "fig = plt.figure(tight_layout=True, figsize=(20, 12))\n",
    "count = 0\n",
    "\n",
    "for feature in num_features:\n",
    "  count += 1\n",
    "\n",
    "  ax = fig.add_subplot(4, 4, count)\n",
    "  ax.hist(merged_df[feature])\n",
    "  ax.set_ylabel('Number of songs')\n",
    "  if merged_df[feature].nunique() == 2:\n",
    "    ax.set_xlabel(feature + \" (binary)\")\n",
    "  else:\n",
    "    ax.set_xlabel(feature)"
   ]
  },
  {
   "cell_type": "markdown",
   "metadata": {
    "id": "ukooYPwWfIrw"
   },
   "source": [
    "From the histograms above, we notice that some features:\n",
    "- follow a normal distribution: danceability, energy, valence, tempo, and popularity_artists.\n",
    "- are highly skewed to the left or right: loudness, speechiness, acousticness (more or less), instrumentalness, liveness, followers, time_signature (more or less).\n",
    "- some features are binary: explicit, mode\n",
    "- some features may have a random distribution: key\n",
    "- some features have very high values and need to be represented using a logarithmic scale: followers"
   ]
  },
  {
   "cell_type": "code",
   "execution_count": 39,
   "metadata": {
    "id": "VPOVUSJePgTl"
   },
   "outputs": [
    {
     "data": {
      "text/plain": [
       "(array([5.0000e+00, 0.0000e+00, 5.1900e+02, 0.0000e+00, 0.0000e+00,\n",
       "        1.0610e+03, 0.0000e+00, 7.6240e+03, 0.0000e+00, 4.5902e+04]),\n",
       " array([0. , 0.4, 0.8, 1.2, 1.6, 2. , 2.4, 2.8, 3.2, 3.6, 4. ]),\n",
       " <BarContainer object of 10 artists>)"
      ]
     },
     "execution_count": 39,
     "metadata": {},
     "output_type": "execute_result"
    },
    {
     "data": {
      "image/png": "[encoded data removed]",
      "text/plain": [
       "<Figure size 2000x1200 with 1 Axes>"
      ]
     },
     "metadata": {},
     "output_type": "display_data"
    }
   ],
   "source": [
    "artist_tracks = pd.DataFrame(merged_df.name_artists.value_counts())\n",
    "\n",
    "bins = [0,10,50,100,1000,5000]\n",
    "category = ['0-10', '10-50', '50-100','100-1000','1000-5000']\n",
    "artist_tracks['num_songs'] = pd.cut(artist_tracks['name_artists'], bins, labels = category)\n",
    "fig = plt.figure(tight_layout=True, figsize=(20, 12))\n",
    "ax = fig.add_subplot()\n",
    "ax.hist(artist_tracks['num_songs'])"
   ]
  },
  {
   "cell_type": "markdown",
   "metadata": {
    "id": "03dHR9TWXfBx"
   },
   "source": [
    "# Cleaning and Sampling"
   ]
  },
  {
   "cell_type": "markdown",
   "metadata": {
    "id": "fxKc9PweXzlp"
   },
   "source": [
    "# Insights From Data Exploration"
   ]
  },
  {
   "cell_type": "markdown",
   "metadata": {
    "id": "hjAN672_YB0o"
   },
   "source": [
    "# Implementation of Proposed ML Techniques"
   ]
  },
  {
   "cell_type": "code",
   "execution_count": null,
   "metadata": {
    "id": "nsFoU9UmXlcF"
   },
   "outputs": [],
   "source": []
  }
 ],
 "metadata": {
  "colab": {
   "collapsed_sections": [
    "XnXby6hNa6zC",
    "zyG_QToHbJ5j"
   ],
   "provenance": []
  },
  "kernelspec": {
   "display_name": "Python 3 (ipykernel)",
   "language": "python",
   "name": "python3"
  },
  "language_info": {
   "codemirror_mode": {
    "name": "ipython",
    "version": 3
   },
   "file_extension": ".py",
   "mimetype": "text/x-python",
   "name": "python",
   "nbconvert_exporter": "python",
   "pygments_lexer": "ipython3",
   "version": "3.9.13"
  }
 },
 "nbformat": 4,
 "nbformat_minor": 1
}
