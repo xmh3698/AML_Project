{
 "cells": [
  {
   "cell_type": "code",
   "execution_count": 1,
   "id": "bd53b733",
   "metadata": {},
   "outputs": [],
   "source": [
    "import numpy as np\n",
    "import pandas as pd\n",
    "import seaborn as sns\n",
    "import matplotlib.pyplot as plt"
   ]
  },
  {
   "cell_type": "code",
   "execution_count": 2,
   "id": "32d06caa",
   "metadata": {},
   "outputs": [],
   "source": [
    "from sklearn.model_selection import train_test_split\n",
    "from tensorflow import keras\n",
    "from sklearn.preprocessing import StandardScaler\n",
    "from category_encoders import TargetEncoder\n",
    "from sklearn.metrics import r2_score"
   ]
  },
  {
   "cell_type": "code",
   "execution_count": 3,
   "id": "7ac46e61",
   "metadata": {},
   "outputs": [
    {
     "data": {
      "text/html": [
       "<div>\n",
       "<style scoped>\n",
       "    .dataframe tbody tr th:only-of-type {\n",
       "        vertical-align: middle;\n",
       "    }\n",
       "\n",
       "    .dataframe tbody tr th {\n",
       "        vertical-align: top;\n",
       "    }\n",
       "\n",
       "    .dataframe thead th {\n",
       "        text-align: right;\n",
       "    }\n",
       "</style>\n",
       "<table border=\"1\" class=\"dataframe\">\n",
       "  <thead>\n",
       "    <tr style=\"text-align: right;\">\n",
       "      <th></th>\n",
       "      <th>Unnamed: 0</th>\n",
       "      <th>id_tracks</th>\n",
       "      <th>name_tracks</th>\n",
       "      <th>popularity_tracks</th>\n",
       "      <th>explicit</th>\n",
       "      <th>danceability</th>\n",
       "      <th>energy</th>\n",
       "      <th>key</th>\n",
       "      <th>loudness</th>\n",
       "      <th>mode</th>\n",
       "      <th>...</th>\n",
       "      <th>followers</th>\n",
       "      <th>genres</th>\n",
       "      <th>name_artists</th>\n",
       "      <th>popularity_artists</th>\n",
       "      <th>year</th>\n",
       "      <th>month</th>\n",
       "      <th>day</th>\n",
       "      <th>dayofweek</th>\n",
       "      <th>weekofyear</th>\n",
       "      <th>duration_ms_log</th>\n",
       "    </tr>\n",
       "  </thead>\n",
       "  <tbody>\n",
       "    <tr>\n",
       "      <th>0</th>\n",
       "      <td>56</td>\n",
       "      <td>07A5yehtSnoedViJAZkNnc</td>\n",
       "      <td>Vivo para Quererte - Remasterizado</td>\n",
       "      <td>0</td>\n",
       "      <td>0</td>\n",
       "      <td>0.434</td>\n",
       "      <td>0.1770</td>\n",
       "      <td>1</td>\n",
       "      <td>-21.180</td>\n",
       "      <td>1</td>\n",
       "      <td>...</td>\n",
       "      <td>3528.0</td>\n",
       "      <td>tango', 'vintage tango</td>\n",
       "      <td>Ignacio Corsini</td>\n",
       "      <td>23</td>\n",
       "      <td>1922</td>\n",
       "      <td>3</td>\n",
       "      <td>21</td>\n",
       "      <td>1</td>\n",
       "      <td>12</td>\n",
       "      <td>12.109782</td>\n",
       "    </tr>\n",
       "    <tr>\n",
       "      <th>1</th>\n",
       "      <td>57</td>\n",
       "      <td>08FmqUhxtyLTn6pAh6bk45</td>\n",
       "      <td>El Prisionero - Remasterizado</td>\n",
       "      <td>0</td>\n",
       "      <td>0</td>\n",
       "      <td>0.321</td>\n",
       "      <td>0.0946</td>\n",
       "      <td>7</td>\n",
       "      <td>-27.961</td>\n",
       "      <td>1</td>\n",
       "      <td>...</td>\n",
       "      <td>3528.0</td>\n",
       "      <td>tango', 'vintage tango</td>\n",
       "      <td>Ignacio Corsini</td>\n",
       "      <td>23</td>\n",
       "      <td>1922</td>\n",
       "      <td>3</td>\n",
       "      <td>21</td>\n",
       "      <td>1</td>\n",
       "      <td>12</td>\n",
       "      <td>12.083379</td>\n",
       "    </tr>\n",
       "    <tr>\n",
       "      <th>2</th>\n",
       "      <td>58</td>\n",
       "      <td>0JV4iqw2lSKJaHBQZ0e5zK</td>\n",
       "      <td>Martín Fierro - Remasterizado</td>\n",
       "      <td>0</td>\n",
       "      <td>0</td>\n",
       "      <td>0.548</td>\n",
       "      <td>0.0391</td>\n",
       "      <td>6</td>\n",
       "      <td>-23.228</td>\n",
       "      <td>1</td>\n",
       "      <td>...</td>\n",
       "      <td>3528.0</td>\n",
       "      <td>tango', 'vintage tango</td>\n",
       "      <td>Ignacio Corsini</td>\n",
       "      <td>23</td>\n",
       "      <td>1922</td>\n",
       "      <td>3</td>\n",
       "      <td>29</td>\n",
       "      <td>2</td>\n",
       "      <td>13</td>\n",
       "      <td>12.107208</td>\n",
       "    </tr>\n",
       "    <tr>\n",
       "      <th>3</th>\n",
       "      <td>59</td>\n",
       "      <td>0l3BQsVJ7F76wlN5QhJzaP</td>\n",
       "      <td>El Vendaval - Remasterizado</td>\n",
       "      <td>0</td>\n",
       "      <td>0</td>\n",
       "      <td>0.370</td>\n",
       "      <td>0.3720</td>\n",
       "      <td>2</td>\n",
       "      <td>-17.138</td>\n",
       "      <td>1</td>\n",
       "      <td>...</td>\n",
       "      <td>3528.0</td>\n",
       "      <td>tango', 'vintage tango</td>\n",
       "      <td>Ignacio Corsini</td>\n",
       "      <td>23</td>\n",
       "      <td>1922</td>\n",
       "      <td>3</td>\n",
       "      <td>21</td>\n",
       "      <td>1</td>\n",
       "      <td>12</td>\n",
       "      <td>11.941671</td>\n",
       "    </tr>\n",
       "    <tr>\n",
       "      <th>4</th>\n",
       "      <td>60</td>\n",
       "      <td>0xJCJ9XSNcdTIz0QKmhtEn</td>\n",
       "      <td>La Maleva - Remasterizado</td>\n",
       "      <td>0</td>\n",
       "      <td>0</td>\n",
       "      <td>0.339</td>\n",
       "      <td>0.0958</td>\n",
       "      <td>8</td>\n",
       "      <td>-26.944</td>\n",
       "      <td>1</td>\n",
       "      <td>...</td>\n",
       "      <td>3528.0</td>\n",
       "      <td>tango', 'vintage tango</td>\n",
       "      <td>Ignacio Corsini</td>\n",
       "      <td>23</td>\n",
       "      <td>1922</td>\n",
       "      <td>3</td>\n",
       "      <td>29</td>\n",
       "      <td>2</td>\n",
       "      <td>13</td>\n",
       "      <td>12.108680</td>\n",
       "    </tr>\n",
       "  </tbody>\n",
       "</table>\n",
       "<p>5 rows × 28 columns</p>\n",
       "</div>"
      ],
      "text/plain": [
       "   Unnamed: 0               id_tracks                         name_tracks  \\\n",
       "0          56  07A5yehtSnoedViJAZkNnc  Vivo para Quererte - Remasterizado   \n",
       "1          57  08FmqUhxtyLTn6pAh6bk45       El Prisionero - Remasterizado   \n",
       "2          58  0JV4iqw2lSKJaHBQZ0e5zK       Martín Fierro - Remasterizado   \n",
       "3          59  0l3BQsVJ7F76wlN5QhJzaP         El Vendaval - Remasterizado   \n",
       "4          60  0xJCJ9XSNcdTIz0QKmhtEn           La Maleva - Remasterizado   \n",
       "\n",
       "   popularity_tracks  explicit  danceability  energy  key  loudness  mode  \\\n",
       "0                  0         0         0.434  0.1770    1   -21.180     1   \n",
       "1                  0         0         0.321  0.0946    7   -27.961     1   \n",
       "2                  0         0         0.548  0.0391    6   -23.228     1   \n",
       "3                  0         0         0.370  0.3720    2   -17.138     1   \n",
       "4                  0         0         0.339  0.0958    8   -26.944     1   \n",
       "\n",
       "   ...  followers                  genres     name_artists  \\\n",
       "0  ...     3528.0  tango', 'vintage tango  Ignacio Corsini   \n",
       "1  ...     3528.0  tango', 'vintage tango  Ignacio Corsini   \n",
       "2  ...     3528.0  tango', 'vintage tango  Ignacio Corsini   \n",
       "3  ...     3528.0  tango', 'vintage tango  Ignacio Corsini   \n",
       "4  ...     3528.0  tango', 'vintage tango  Ignacio Corsini   \n",
       "\n",
       "   popularity_artists  year  month  day dayofweek  weekofyear duration_ms_log  \n",
       "0                  23  1922      3   21         1          12       12.109782  \n",
       "1                  23  1922      3   21         1          12       12.083379  \n",
       "2                  23  1922      3   29         2          13       12.107208  \n",
       "3                  23  1922      3   21         1          12       11.941671  \n",
       "4                  23  1922      3   29         2          13       12.108680  \n",
       "\n",
       "[5 rows x 28 columns]"
      ]
     },
     "execution_count": 3,
     "metadata": {},
     "output_type": "execute_result"
    }
   ],
   "source": [
    "df_clean = pd.read_csv(\"Dataset/clean_df.csv\")\n",
    "df_clean.head()"
   ]
  },
  {
   "cell_type": "code",
   "execution_count": 4,
   "id": "613b8d85",
   "metadata": {},
   "outputs": [],
   "source": [
    "df_clean.sort_values(by = [\"year\",\"month\",\"day\"], inplace = True)\n",
    "df_clean.drop_duplicates(subset = [\"name_tracks\",\"name_artists\"], keep = 'last', inplace=True, ignore_index=True)\n",
    "\n",
    "# Based on the distribution of track popularity, I suspect many cases with popularity 0 are missing value. By looking up\n",
    "# some cases on Spotify, I think my suspecion might be true.\n",
    "\n",
    "#df_clean = df_clean[df_clean.popularity_tracks!=0]"
   ]
  },
  {
   "cell_type": "code",
   "execution_count": 5,
   "id": "7f4c11a7",
   "metadata": {},
   "outputs": [],
   "source": [
    "# Map id and name of artists to a single numerical id\n",
    "unique_artists = df_clean[['name_artists', 'id_artists']].drop_duplicates()\n",
    "artist_ids, unique_values = pd.factorize(unique_artists['id_artists'])\n",
    "unique_artists['artist_num_id'] = artist_ids\n",
    "df_clean = pd.merge(df_clean, unique_artists[['name_artists', 'artist_num_id']], \n",
    "                    on='name_artists', how='left')\n",
    "\n",
    "# Drop unused columns \n",
    "dropped_columns = ['Unnamed: 0','id_tracks','name_tracks','id_artists','name_artists']\n",
    "df_clean = df_clean.drop(columns=dropped_columns)"
   ]
  },
  {
   "cell_type": "code",
   "execution_count": 6,
   "id": "0c79a739",
   "metadata": {},
   "outputs": [
    {
     "name": "stdout",
     "output_type": "stream",
     "text": [
      "There are 4407 different genres in the dataset.\n"
     ]
    },
    {
     "name": "stderr",
     "output_type": "stream",
     "text": [
      "C:\\Users\\XMhua\\anaconda3\\lib\\site-packages\\category_encoders\\target_encoder.py:92: FutureWarning: Default parameter min_samples_leaf will change in version 2.6.See https://github.com/scikit-learn-contrib/category_encoders/issues/327\n",
      "  warnings.warn(\"Default parameter min_samples_leaf will change in version 2.6.\"\n",
      "C:\\Users\\XMhua\\anaconda3\\lib\\site-packages\\category_encoders\\target_encoder.py:97: FutureWarning: Default parameter smoothing will change in version 2.6.See https://github.com/scikit-learn-contrib/category_encoders/issues/327\n",
      "  warnings.warn(\"Default parameter smoothing will change in version 2.6.\"\n"
     ]
    }
   ],
   "source": [
    "# Transform the string of genres to a tuple\n",
    "def genre_transform (genre_string):\n",
    "  genre_list = genre_string.split(\", \")\n",
    "  genre_list = [s.strip(\"'\") for s in genre_list]\n",
    "  return tuple(genre_list)\n",
    "\n",
    "df_clean['genres'] = df_clean['genres'].apply(genre_transform)\n",
    "\n",
    "# Print the number of genres\n",
    "all_genres = np.unique(np.concatenate(df_clean[\"genres\"].values))\n",
    "print(\"There are \"+str(len(all_genres))+\" different genres in the dataset.\")\n",
    "\n",
    "# Do a target encoding on each tuple of genres\n",
    "encoder = TargetEncoder(cols=[\"genres\"])\n",
    "df_target = df_clean['popularity_tracks']\n",
    "encoder.fit(df_clean, df_target)\n",
    "df_clean = encoder.transform(df_clean)"
   ]
  },
  {
   "cell_type": "code",
   "execution_count": 7,
   "id": "cf34796d",
   "metadata": {},
   "outputs": [],
   "source": [
    "#bins = [-1, 10, 20, 30, 40, 50, 60, 100]\n",
    "#group_name = [i for i in range(0,7)]\n",
    "#df_clean['popularity_score'] = pd.cut(df_clean.popularity_tracks, bins = bins, labels = group_name)\n",
    "#df_clean.drop(axis=1, labels = \"popularity_tracks\", inplace = True)"
   ]
  },
  {
   "cell_type": "code",
   "execution_count": 8,
   "id": "8d409f9d",
   "metadata": {},
   "outputs": [
    {
     "data": {
      "text/html": [
       "<div>\n",
       "<style scoped>\n",
       "    .dataframe tbody tr th:only-of-type {\n",
       "        vertical-align: middle;\n",
       "    }\n",
       "\n",
       "    .dataframe tbody tr th {\n",
       "        vertical-align: top;\n",
       "    }\n",
       "\n",
       "    .dataframe thead th {\n",
       "        text-align: right;\n",
       "    }\n",
       "</style>\n",
       "<table border=\"1\" class=\"dataframe\">\n",
       "  <thead>\n",
       "    <tr style=\"text-align: right;\">\n",
       "      <th></th>\n",
       "      <th>popularity_tracks</th>\n",
       "      <th>explicit</th>\n",
       "      <th>danceability</th>\n",
       "      <th>energy</th>\n",
       "      <th>key</th>\n",
       "      <th>loudness</th>\n",
       "      <th>mode</th>\n",
       "      <th>speechiness</th>\n",
       "      <th>acousticness</th>\n",
       "      <th>instrumentalness</th>\n",
       "      <th>liveness</th>\n",
       "      <th>valence</th>\n",
       "      <th>tempo</th>\n",
       "      <th>time_signature</th>\n",
       "      <th>followers</th>\n",
       "      <th>genres</th>\n",
       "      <th>popularity_artists</th>\n",
       "      <th>year</th>\n",
       "      <th>month</th>\n",
       "      <th>day</th>\n",
       "      <th>dayofweek</th>\n",
       "      <th>weekofyear</th>\n",
       "      <th>duration_ms_log</th>\n",
       "      <th>artist_num_id</th>\n",
       "    </tr>\n",
       "  </thead>\n",
       "  <tbody>\n",
       "    <tr>\n",
       "      <th>0</th>\n",
       "      <td>19</td>\n",
       "      <td>0</td>\n",
       "      <td>0.659</td>\n",
       "      <td>0.791</td>\n",
       "      <td>2</td>\n",
       "      <td>-4.895</td>\n",
       "      <td>1</td>\n",
       "      <td>0.0295</td>\n",
       "      <td>0.139</td>\n",
       "      <td>0.000002</td>\n",
       "      <td>0.1610</td>\n",
       "      <td>0.9560</td>\n",
       "      <td>141.999</td>\n",
       "      <td>4</td>\n",
       "      <td>21048.0</td>\n",
       "      <td>30.765217</td>\n",
       "      <td>49</td>\n",
       "      <td>1900</td>\n",
       "      <td>1</td>\n",
       "      <td>1</td>\n",
       "      <td>0</td>\n",
       "      <td>1</td>\n",
       "      <td>12.362734</td>\n",
       "      <td>0</td>\n",
       "    </tr>\n",
       "    <tr>\n",
       "      <th>1</th>\n",
       "      <td>0</td>\n",
       "      <td>0</td>\n",
       "      <td>0.402</td>\n",
       "      <td>0.158</td>\n",
       "      <td>3</td>\n",
       "      <td>-16.900</td>\n",
       "      <td>0</td>\n",
       "      <td>0.0390</td>\n",
       "      <td>0.989</td>\n",
       "      <td>0.130000</td>\n",
       "      <td>0.3110</td>\n",
       "      <td>0.1960</td>\n",
       "      <td>103.220</td>\n",
       "      <td>4</td>\n",
       "      <td>11327.0</td>\n",
       "      <td>5.279070</td>\n",
       "      <td>35</td>\n",
       "      <td>1921</td>\n",
       "      <td>1</td>\n",
       "      <td>1</td>\n",
       "      <td>6</td>\n",
       "      <td>52</td>\n",
       "      <td>12.001996</td>\n",
       "      <td>1</td>\n",
       "    </tr>\n",
       "    <tr>\n",
       "      <th>2</th>\n",
       "      <td>0</td>\n",
       "      <td>0</td>\n",
       "      <td>0.227</td>\n",
       "      <td>0.261</td>\n",
       "      <td>5</td>\n",
       "      <td>-12.343</td>\n",
       "      <td>1</td>\n",
       "      <td>0.0382</td>\n",
       "      <td>0.994</td>\n",
       "      <td>0.247000</td>\n",
       "      <td>0.0977</td>\n",
       "      <td>0.0539</td>\n",
       "      <td>118.891</td>\n",
       "      <td>4</td>\n",
       "      <td>11327.0</td>\n",
       "      <td>5.279070</td>\n",
       "      <td>35</td>\n",
       "      <td>1921</td>\n",
       "      <td>1</td>\n",
       "      <td>1</td>\n",
       "      <td>6</td>\n",
       "      <td>52</td>\n",
       "      <td>12.094767</td>\n",
       "      <td>1</td>\n",
       "    </tr>\n",
       "    <tr>\n",
       "      <th>3</th>\n",
       "      <td>0</td>\n",
       "      <td>0</td>\n",
       "      <td>0.347</td>\n",
       "      <td>0.197</td>\n",
       "      <td>10</td>\n",
       "      <td>-15.652</td>\n",
       "      <td>1</td>\n",
       "      <td>0.0504</td>\n",
       "      <td>0.991</td>\n",
       "      <td>0.000133</td>\n",
       "      <td>0.1960</td>\n",
       "      <td>0.2460</td>\n",
       "      <td>109.338</td>\n",
       "      <td>3</td>\n",
       "      <td>11327.0</td>\n",
       "      <td>5.279070</td>\n",
       "      <td>35</td>\n",
       "      <td>1921</td>\n",
       "      <td>1</td>\n",
       "      <td>1</td>\n",
       "      <td>6</td>\n",
       "      <td>52</td>\n",
       "      <td>12.163233</td>\n",
       "      <td>1</td>\n",
       "    </tr>\n",
       "    <tr>\n",
       "      <th>4</th>\n",
       "      <td>0</td>\n",
       "      <td>0</td>\n",
       "      <td>0.269</td>\n",
       "      <td>0.255</td>\n",
       "      <td>0</td>\n",
       "      <td>-9.041</td>\n",
       "      <td>1</td>\n",
       "      <td>0.0536</td>\n",
       "      <td>0.984</td>\n",
       "      <td>0.002630</td>\n",
       "      <td>0.1780</td>\n",
       "      <td>0.1540</td>\n",
       "      <td>79.186</td>\n",
       "      <td>4</td>\n",
       "      <td>11327.0</td>\n",
       "      <td>5.279070</td>\n",
       "      <td>35</td>\n",
       "      <td>1921</td>\n",
       "      <td>1</td>\n",
       "      <td>1</td>\n",
       "      <td>6</td>\n",
       "      <td>52</td>\n",
       "      <td>12.107357</td>\n",
       "      <td>1</td>\n",
       "    </tr>\n",
       "  </tbody>\n",
       "</table>\n",
       "</div>"
      ],
      "text/plain": [
       "   popularity_tracks  explicit  danceability  energy  key  loudness  mode  \\\n",
       "0                 19         0         0.659   0.791    2    -4.895     1   \n",
       "1                  0         0         0.402   0.158    3   -16.900     0   \n",
       "2                  0         0         0.227   0.261    5   -12.343     1   \n",
       "3                  0         0         0.347   0.197   10   -15.652     1   \n",
       "4                  0         0         0.269   0.255    0    -9.041     1   \n",
       "\n",
       "   speechiness  acousticness  instrumentalness  liveness  valence    tempo  \\\n",
       "0       0.0295         0.139          0.000002    0.1610   0.9560  141.999   \n",
       "1       0.0390         0.989          0.130000    0.3110   0.1960  103.220   \n",
       "2       0.0382         0.994          0.247000    0.0977   0.0539  118.891   \n",
       "3       0.0504         0.991          0.000133    0.1960   0.2460  109.338   \n",
       "4       0.0536         0.984          0.002630    0.1780   0.1540   79.186   \n",
       "\n",
       "   time_signature  followers     genres  popularity_artists  year  month  day  \\\n",
       "0               4    21048.0  30.765217                  49  1900      1    1   \n",
       "1               4    11327.0   5.279070                  35  1921      1    1   \n",
       "2               4    11327.0   5.279070                  35  1921      1    1   \n",
       "3               3    11327.0   5.279070                  35  1921      1    1   \n",
       "4               4    11327.0   5.279070                  35  1921      1    1   \n",
       "\n",
       "   dayofweek  weekofyear  duration_ms_log  artist_num_id  \n",
       "0          0           1        12.362734              0  \n",
       "1          6          52        12.001996              1  \n",
       "2          6          52        12.094767              1  \n",
       "3          6          52        12.163233              1  \n",
       "4          6          52        12.107357              1  "
      ]
     },
     "execution_count": 8,
     "metadata": {},
     "output_type": "execute_result"
    }
   ],
   "source": [
    "pd.set_option('display.max_columns', None)\n",
    "df_clean.head()"
   ]
  },
  {
   "cell_type": "code",
   "execution_count": 9,
   "id": "fafcea3d",
   "metadata": {},
   "outputs": [],
   "source": [
    "num_features = ['duration_ms_log', 'explicit', 'danceability', 'energy', 'key',\n",
    "                'loudness', 'mode', 'speechiness', 'acousticness',\n",
    "                'instrumentalness', 'liveness', 'valence', 'tempo',\n",
    "                'time_signature', 'followers', 'popularity_artists', 'year',\n",
    "               'month', 'day', 'dayofweek', 'weekofyear', 'artist_num_id', \n",
    "                'genres']\n",
    "target = ['popularity_tracks']"
   ]
  },
  {
   "cell_type": "code",
   "execution_count": 10,
   "id": "82d9c034",
   "metadata": {},
   "outputs": [
    {
     "name": "stdout",
     "output_type": "stream",
     "text": [
      "Highly correlated pairs = []\n"
     ]
    },
    {
     "data": {
      "image/png": "[encoded data removed]",
      "text/plain": [
       "<Figure size 640x480 with 2 Axes>"
      ]
     },
     "metadata": {},
     "output_type": "display_data"
    }
   ],
   "source": [
    "df_X = df_clean[num_features]\n",
    "corr = df_X.corr()\n",
    "sns.heatmap(corr)\n",
    "\n",
    "#Find the pairs of features correlated above 0.9\n",
    "corr_column_names = corr.columns\n",
    "highly_correlated_pairs = []\n",
    "\n",
    "for i in range (0,len(corr_column_names)):\n",
    "    corr_column_name = corr_column_names[i]\n",
    "    corr_column_values = corr[corr_column_name].values\n",
    "    for j in range (i,len(corr_column_values)):\n",
    "        if (i!=j) and (abs(corr_column_values[j]) >= 0.9):\n",
    "            highly_correlated_pairs.append((corr_column_names[i],corr_column_names[j]))\n",
    "\n",
    "print(\"Highly correlated pairs = \"+str(highly_correlated_pairs))\n",
    "#df_X = df_X.drop(labels='genres', axis = 1)"
   ]
  },
  {
   "cell_type": "code",
   "execution_count": 11,
   "id": "6db01bcf",
   "metadata": {},
   "outputs": [
    {
     "data": {
      "text/plain": [
       "(388578, 23)"
      ]
     },
     "execution_count": 11,
     "metadata": {},
     "output_type": "execute_result"
    }
   ],
   "source": [
    "df_X.shape"
   ]
  },
  {
   "cell_type": "code",
   "execution_count": 12,
   "id": "f1a53b19",
   "metadata": {},
   "outputs": [],
   "source": [
    "#num_classes = 7\n",
    "#y = keras.utils.to_categorical(np.array(df_clean[target]).reshape(-1), num_classes)\n",
    "y = np.array(df_clean[target]).reshape(-1)\n",
    "x = df_X\n",
    "x_dev, x_test, y_dev, y_test = train_test_split(x,y, test_size = 0.2)"
   ]
  },
  {
   "cell_type": "code",
   "execution_count": 13,
   "id": "3b59e018",
   "metadata": {},
   "outputs": [],
   "source": [
    "# Standardize dataset x\n",
    "scaler = StandardScaler()\n",
    "x_dev_st = scaler.fit_transform(x_dev)\n",
    "x_test_st = scaler.transform(x_test)\n"
   ]
  },
  {
   "cell_type": "code",
   "execution_count": 14,
   "id": "50c17acc",
   "metadata": {},
   "outputs": [],
   "source": [
    "# split development set into train and validation sets\n",
    "\n",
    "x_train, x_val, y_train, y_val = train_test_split(x_dev_st, y_dev,\n",
    "                                                 test_size = 0.2\n",
    "                                                 )"
   ]
  },
  {
   "cell_type": "markdown",
   "id": "821a16d9",
   "metadata": {},
   "source": [
    "Build a neural network\n",
    "\n",
    "Hidden layer size - 15\n",
    "\n",
    "Second layer size - 7"
   ]
  },
  {
   "cell_type": "code",
   "execution_count": 15,
   "id": "7707f2e6",
   "metadata": {},
   "outputs": [],
   "source": [
    "model = keras.Sequential([\n",
    "    keras.Input(shape=(df_X.shape[1],)),\n",
    "    keras.layers.Dense(150, activation='relu'),\n",
    "    keras.layers.Dense(10, activation='relu'),\n",
    "    keras.layers.Dense(1, activation = 'linear')\n",
    "])"
   ]
  },
  {
   "cell_type": "code",
   "execution_count": 16,
   "id": "b0bfa531",
   "metadata": {},
   "outputs": [
    {
     "name": "stdout",
     "output_type": "stream",
     "text": [
      "Model: \"sequential\"\n",
      "_________________________________________________________________\n",
      " Layer (type)                Output Shape              Param #   \n",
      "=================================================================\n",
      " dense (Dense)               (None, 150)               3600      \n",
      "                                                                 \n",
      " dense_1 (Dense)             (None, 10)                1510      \n",
      "                                                                 \n",
      " dense_2 (Dense)             (None, 1)                 11        \n",
      "                                                                 \n",
      "=================================================================\n",
      "Total params: 5,121\n",
      "Trainable params: 5,121\n",
      "Non-trainable params: 0\n",
      "_________________________________________________________________\n"
     ]
    }
   ],
   "source": [
    "model.summary()"
   ]
  },
  {
   "cell_type": "code",
   "execution_count": 17,
   "id": "265bc1a0",
   "metadata": {},
   "outputs": [
    {
     "name": "stdout",
     "output_type": "stream",
     "text": [
      "Epoch 1/20\n",
      "3886/3886 [==============================] - 4s 899us/step - loss: 112.3869 - val_loss: 89.1624\n",
      "Epoch 2/20\n",
      "3886/3886 [==============================] - 3s 870us/step - loss: 88.6144 - val_loss: 86.9916\n",
      "Epoch 3/20\n",
      "3886/3886 [==============================] - 3s 860us/step - loss: 87.2806 - val_loss: 85.8237\n",
      "Epoch 4/20\n",
      "3886/3886 [==============================] - 3s 856us/step - loss: 86.0922 - val_loss: 85.5732\n",
      "Epoch 5/20\n",
      "3886/3886 [==============================] - 3s 859us/step - loss: 85.2776 - val_loss: 84.4852\n",
      "Epoch 6/20\n",
      "3886/3886 [==============================] - 3s 868us/step - loss: 84.6362 - val_loss: 84.9141\n",
      "Epoch 7/20\n",
      "3886/3886 [==============================] - 3s 877us/step - loss: 84.0753 - val_loss: 83.8260\n",
      "Epoch 8/20\n",
      "3886/3886 [==============================] - 3s 882us/step - loss: 83.6959 - val_loss: 83.4238\n",
      "Epoch 9/20\n",
      "3886/3886 [==============================] - 3s 883us/step - loss: 83.3878 - val_loss: 83.3164\n",
      "Epoch 10/20\n",
      "3886/3886 [==============================] - 3s 881us/step - loss: 83.1567 - val_loss: 83.2970\n",
      "Epoch 11/20\n",
      "3886/3886 [==============================] - 3s 871us/step - loss: 82.9615 - val_loss: 83.2926\n",
      "Epoch 12/20\n",
      "3886/3886 [==============================] - 3s 890us/step - loss: 82.6733 - val_loss: 82.8625\n",
      "Epoch 13/20\n",
      "3886/3886 [==============================] - 4s 901us/step - loss: 82.5978 - val_loss: 82.6130\n",
      "Epoch 14/20\n",
      "3886/3886 [==============================] - 3s 897us/step - loss: 82.3723 - val_loss: 82.8511\n",
      "Epoch 15/20\n",
      "3886/3886 [==============================] - 3s 892us/step - loss: 82.1461 - val_loss: 82.1580\n",
      "Epoch 16/20\n",
      "3886/3886 [==============================] - 3s 895us/step - loss: 81.9655 - val_loss: 82.1103\n",
      "Epoch 17/20\n",
      "3886/3886 [==============================] - 4s 914us/step - loss: 81.7750 - val_loss: 82.7163\n",
      "Epoch 18/20\n",
      "3886/3886 [==============================] - 4s 917us/step - loss: 81.5937 - val_loss: 82.3740\n",
      "Epoch 19/20\n",
      "3886/3886 [==============================] - 4s 901us/step - loss: 81.4758 - val_loss: 81.6094\n",
      "Epoch 20/20\n",
      "3886/3886 [==============================] - 4s 915us/step - loss: 81.3256 - val_loss: 82.4052\n"
     ]
    }
   ],
   "source": [
    "\n",
    "model.compile(optimizer= \"adam\", loss=keras.losses.MeanSquaredError())\n",
    "history = model.fit(x_train, y_train, batch_size= 64, epochs=20, verbose=1,\n",
    " validation_data = (x_val, y_val))"
   ]
  },
  {
   "cell_type": "code",
   "execution_count": 18,
   "id": "19387cec",
   "metadata": {},
   "outputs": [
    {
     "name": "stdout",
     "output_type": "stream",
     "text": [
      "2429/2429 [==============================] - 1s 555us/step\n",
      "r2 score on test data: 0.7049786217110507\n"
     ]
    }
   ],
   "source": [
    "y_pred = model.predict(x_test_st)\n",
    "score = r2_score(y_test, y_pred)\n",
    "print(\"r2 score on test data:\", score)"
   ]
  },
  {
   "cell_type": "code",
   "execution_count": 19,
   "id": "c7b54b26",
   "metadata": {},
   "outputs": [
    {
     "data": {
      "text/plain": [
       "<matplotlib.legend.Legend at 0x12eb4271d60>"
      ]
     },
     "execution_count": 19,
     "metadata": {},
     "output_type": "execute_result"
    },
    {
     "data": {
      "image/png": "[encoded data removed]",
      "text/plain": [
       "<Figure size 640x480 with 1 Axes>"
      ]
     },
     "metadata": {},
     "output_type": "display_data"
    }
   ],
   "source": [
    "# display train vs validation loss over each epoch\n",
    "hist = pd.DataFrame(history.history)\n",
    "plt.plot(hist.index, hist[\"loss\"], 'r')\n",
    "plt.plot(hist.index, hist[\"val_loss\"], 'b')\n",
    "plt.ylabel(\"loss\")\n",
    "plt.xlabel(\"epochs\")\n",
    "plt.legend(['train','val'])"
   ]
  },
  {
   "cell_type": "code",
   "execution_count": 20,
   "id": "26508049",
   "metadata": {
    "scrolled": true
   },
   "outputs": [
    {
     "name": "stdout",
     "output_type": "stream",
     "text": [
      "Epoch 1/20\n",
      "4858/4858 [==============================] - 4s 751us/step - loss: 111.2055\n",
      "Epoch 2/20\n",
      "4858/4858 [==============================] - 4s 758us/step - loss: 87.4017\n",
      "Epoch 3/20\n",
      "4858/4858 [==============================] - 4s 740us/step - loss: 85.7202\n",
      "Epoch 4/20\n",
      "4858/4858 [==============================] - 4s 748us/step - loss: 84.6654\n",
      "Epoch 5/20\n",
      "4858/4858 [==============================] - 4s 727us/step - loss: 83.9854\n",
      "Epoch 6/20\n",
      "4858/4858 [==============================] - 4s 758us/step - loss: 83.4398\n",
      "Epoch 7/20\n",
      "4858/4858 [==============================] - 4s 762us/step - loss: 82.9969\n",
      "Epoch 8/20\n",
      "4858/4858 [==============================] - 4s 740us/step - loss: 82.6482\n",
      "Epoch 9/20\n",
      "4858/4858 [==============================] - 4s 743us/step - loss: 82.3413\n",
      "Epoch 10/20\n",
      "4858/4858 [==============================] - 4s 737us/step - loss: 82.0485\n",
      "Epoch 11/20\n",
      "4858/4858 [==============================] - 4s 743us/step - loss: 81.8243\n",
      "Epoch 12/20\n",
      "4858/4858 [==============================] - 4s 748us/step - loss: 81.6439\n",
      "Epoch 13/20\n",
      "4858/4858 [==============================] - 4s 759us/step - loss: 81.3892\n",
      "Epoch 14/20\n",
      "4858/4858 [==============================] - 4s 750us/step - loss: 81.2974\n",
      "Epoch 15/20\n",
      "4858/4858 [==============================] - 4s 779us/step - loss: 81.1258\n",
      "Epoch 16/20\n",
      "4858/4858 [==============================] - 4s 748us/step - loss: 80.9668\n",
      "Epoch 17/20\n",
      "4858/4858 [==============================] - 4s 762us/step - loss: 80.8627\n",
      "Epoch 18/20\n",
      "4858/4858 [==============================] - 4s 757us/step - loss: 80.6514\n",
      "Epoch 19/20\n",
      "4858/4858 [==============================] - 4s 750us/step - loss: 80.5633\n",
      "Epoch 20/20\n",
      "4858/4858 [==============================] - 4s 751us/step - loss: 80.4146\n"
     ]
    }
   ],
   "source": [
    "# Finally, let's train the model using development dataset\n",
    "\n",
    "model_dev = keras.Sequential([\n",
    "    keras.Input(shape=(df_X.shape[1],)),\n",
    "    keras.layers.Dense(150, activation='relu'),\n",
    "    keras.layers.Dense(10, activation='relu'),\n",
    "    keras.layers.Dense(1, activation = 'relu')\n",
    "])\n",
    "model_dev.compile(optimizer= \"adam\", loss=keras.losses.MeanSquaredError())\n",
    "history = model_dev.fit(x_dev_st, y_dev, batch_size= 64, epochs=20, verbose=1)"
   ]
  },
  {
   "cell_type": "code",
   "execution_count": 21,
   "id": "5d66837e",
   "metadata": {},
   "outputs": [
    {
     "name": "stdout",
     "output_type": "stream",
     "text": [
      "2429/2429 [==============================] - 1s 560us/step\n",
      "r2 score on test data: 0.7099904894781208\n"
     ]
    }
   ],
   "source": [
    "y_pred2 = model_dev.predict(x_test_st)\n",
    "score = r2_score(y_test, y_pred2)\n",
    "print(\"r2 score on test data:\", score)"
   ]
  },
  {
   "cell_type": "code",
   "execution_count": 22,
   "id": "a7769678",
   "metadata": {},
   "outputs": [
    {
     "name": "stdout",
     "output_type": "stream",
     "text": [
      "Saved model to disk\n"
     ]
    }
   ],
   "source": [
    "# serialize model to JSON\n",
    "model_json = model_dev.to_json()\n",
    "with open(\"model/model.json\", \"w\") as json_file:\n",
    "    json_file.write(model_json)\n",
    "# serialize weights to HDF5\n",
    "model_dev.save_weights(\"model/model.h5\")\n",
    "print(\"Saved model to disk\")\n"
   ]
  }
 ],
 "metadata": {
  "kernelspec": {
   "display_name": "Python 3 (ipykernel)",
   "language": "python",
   "name": "python3"
  },
  "language_info": {
   "codemirror_mode": {
    "name": "ipython",
    "version": 3
   },
   "file_extension": ".py",
   "mimetype": "text/x-python",
   "name": "python",
   "nbconvert_exporter": "python",
   "pygments_lexer": "ipython3",
   "version": "3.9.13"
  }
 },
 "nbformat": 4,
 "nbformat_minor": 5
}
